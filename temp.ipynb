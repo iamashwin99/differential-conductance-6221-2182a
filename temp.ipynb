{
 "cells": [
  {
   "cell_type": "code",
   "execution_count": 1,
   "metadata": {},
   "outputs": [],
   "source": [
    "from k6221 import *"
   ]
  },
  {
   "cell_type": "code",
   "execution_count": 2,
   "metadata": {},
   "outputs": [],
   "source": [
    "rm = pyvisa.ResourceManager()\n",
    "x = None"
   ]
  },
  {
   "cell_type": "code",
   "execution_count": 3,
   "metadata": {},
   "outputs": [],
   "source": [
    "address = \"TCPIP::10.0.4.138::1394::SOCKET\"\n",
    "dev = Keithley6221(address=address, rm=rm)"
   ]
  },
  {
   "cell_type": "code",
   "execution_count": 4,
   "metadata": {},
   "outputs": [
    {
     "name": "stdout",
     "output_type": "stream",
     "text": [
      "*IDN?\n",
      "\n",
      "KEITHLEY INSTRUMENTS INC.,MODEL 6221,4018989,D02  /700x \n"
     ]
    }
   ],
   "source": [
    "print(dev.get_idn())"
   ]
  },
  {
   "cell_type": "code",
   "execution_count": 45,
   "metadata": {},
   "outputs": [
    {
     "data": {
      "text/plain": [
       "<UNITS.Volts: 'V'>"
      ]
     },
     "execution_count": 45,
     "metadata": {},
     "output_type": "execute_result"
    }
   ],
   "source": [
    "dev.get_units()"
   ]
  },
  {
   "cell_type": "code",
   "execution_count": 50,
   "metadata": {},
   "outputs": [],
   "source": [
    "dev.RunDeltaMeasurements(\n",
    "            units=dev.UNITS.Ohms,\n",
    "            current=1e-6,\n",
    "            delay=10e-3,\n",
    "            count=\"INF\",\n",
    "            swe_count=1,\n",
    "    )"
   ]
  },
  {
   "cell_type": "code",
   "execution_count": 16,
   "metadata": {},
   "outputs": [],
   "source": [
    "dev.WriteCommand(\"SOUR:SWE:ABOR\")\n"
   ]
  },
  {
   "cell_type": "code",
   "execution_count": 42,
   "metadata": {},
   "outputs": [
    {
     "data": {
      "text/plain": [
       "<UNITS.Ohms: 'OHMS'>"
      ]
     },
     "execution_count": 42,
     "metadata": {},
     "output_type": "execute_result"
    }
   ],
   "source": [
    "dev.UNITS.Ohms"
   ]
  },
  {
   "cell_type": "code",
   "execution_count": 51,
   "metadata": {},
   "outputs": [
    {
     "name": "stdout",
     "output_type": "stream",
     "text": [
      "Trace actual size 65\n",
      "Trace buffer free size 2095072,2080\n",
      "Trace length: 130\n",
      "Trace numbers:  [537.258789, 0.0, 534.846252, 0.031, 547.035461, 0.062, 540.252441, 0.093, 531.246338, 0.124, 530.842102, 0.154, 538.72406, 0.186, 547.073303, 0.216, 547.351196, 0.248, 547.464844, 0.278, 547.629089, 0.31, 546.643799, 0.34, 545.873291, 0.372, 546.340698, 0.402, 546.37854, 0.434, 546.517517, 0.464, 546.858582, 0.496, 547.186951, 0.526, 547.944824, 0.558, 548.26062, 0.588, 539.822937, 0.619, 531.107361, 0.65, 530.703186, 0.681, 538.711426, 0.712, 547.21228, 0.743, 539.583008, 0.773, 531.04425, 0.804, 530.589478, 0.835, 538.812439, 0.866, 547.389099, 0.897, 539.759766, 0.927, 531.018982, 0.958, 529.945313, 0.989, 538.206177, 1.02, 547.250183, 1.051, 539.658752, 1.082, 531.132629, 1.112, 530.463196, 1.143, 538.736633, 1.174, 547.464844, 1.205, 539.368225, 1.236, 530.905273, 1.267, 530.816895, 1.297, 539.204041, 1.329, 547.793335, 1.359, 539.633484, 1.39, 530.981079, 1.421, 530.640015, 1.451, 538.799805, 1.483, 547.401672, 1.513, 539.557678, 1.544, 530.930542, 1.575, 530.425293, 1.606, 538.749329, 1.637, 547.603882, 1.668, 539.797729, 1.698, 531.056885, 1.729, 530.362122, 1.76, 538.559814, 1.791, 547.300659, 1.822, 539.469299, 1.853, 532.218933, 1.883, 533.406311, 1.914, 541.098755, 1.945, 549.574341, 1.976]\n",
      "Trace data type: DELT\n"
     ]
    },
    {
     "data": {
      "image/png": "[encoded data removed]",
      "text/plain": [
       "<Figure size 432x288 with 1 Axes>"
      ]
     },
     "metadata": {
      "needs_background": "light"
     },
     "output_type": "display_data"
    }
   ],
   "source": [
    "count = dev.get_trace_actual_data_points()\n",
    "print(\"Trace actual size\", count)\n",
    "print(\"Trace buffer free size\", dev.get_trace_free_memory())\n",
    "numbers = dev.get_trace_data()\n",
    "print(f\"Trace length: {len(numbers)}\")\n",
    "print(f\"Trace numbers: \", numbers)\n",
    "points = [numbers[2 * i] for i in range(count)]\n",
    "# currents = [start_current + i * step_size for i in range(points.__len__())]\n",
    "time_stamps = [numbers[2 * i + 1] for i in range(count)]\n",
    "print(f\"Trace data type: {dev.get_trace_data_type()}\")\n",
    "plt.plot(points, \"o\")\n",
    "plt.show()"
   ]
  },
  {
   "cell_type": "code",
   "execution_count": 19,
   "metadata": {},
   "outputs": [
    {
     "data": {
      "text/plain": [
       "[30.5870953, 2.12869692, 2.11342716, 2.12531757]"
      ]
     },
     "execution_count": 19,
     "metadata": {},
     "output_type": "execute_result"
    }
   ],
   "source": [
    "points"
   ]
  },
  {
   "cell_type": "code",
   "execution_count": null,
   "metadata": {},
   "outputs": [],
   "source": []
  },
  {
   "cell_type": "code",
   "execution_count": 29,
   "metadata": {},
   "outputs": [],
   "source": [
    "rm.close()"
   ]
  },
  {
   "cell_type": "code",
   "execution_count": 41,
   "metadata": {},
   "outputs": [],
   "source": [
    "dev.WriteCommand(\"SOUR:DCON:CABort OFF\")"
   ]
  },
  {
   "cell_type": "code",
   "execution_count": 5,
   "metadata": {},
   "outputs": [
    {
     "name": "stdout",
     "output_type": "stream",
     "text": [
      "SOUR:DCON:NVPR?\n",
      "\n",
      "OUTP?\n",
      "\n",
      "*RST\n",
      "\n",
      "UNIT:VOLT:DC?\n",
      "\n",
      "SOUR:DCON:STARt 0\n",
      "\n",
      "SOUR:DCON:STAR?\n",
      "\n",
      "And START_CURRENT =  0.000000E+00\n",
      "SYST:ERR?\n",
      "\n",
      "SOUR:DCON:STOP 5e-05\n",
      "\n",
      "SOUR:DCON:STOP?\n",
      "\n",
      "And STOP_CURRENT =  5.000000E-05\n",
      "SYST:ERR?\n",
      "\n",
      "SOUR:DCON:STEP 1e-05\n",
      "\n",
      "SOUR:DCON:STEP?\n",
      "\n",
      "And STEP =  1.000000E-05\n",
      "SYST:ERR?\n",
      "\n",
      "SOUR:DCON:DELTa 2e-05\n",
      "\n",
      "SOUR:DCON:DELTa?\n",
      "\n",
      "And DELTA =  0.00002\n",
      "SYST:ERR?\n",
      "\n",
      "SOUR:DCON:DELay 0.002\n",
      "\n",
      "SOUR:DCON:DELay?\n",
      "\n",
      "And DELAY =  0.00200\n",
      "SYST:ERR?\n",
      "\n",
      "SOUR:DCON:CAB OFF\n",
      "\n",
      "SOUR:DCON:CAB?\n",
      "\n",
      "And CAB =  0\n",
      "SYST:ERR?\n",
      "\n",
      "TRAC:POIN 6\n",
      "\n",
      "SYST:ERR?\n",
      "\n",
      "SOUR:DCON:ARM\n",
      "\n",
      "SYST:ERR?\n",
      "\n",
      "INIT:IMM\n",
      "\n",
      "dIdV program is fully initialized!\n",
      "SOUR:SWE:ABOR\n",
      "\n"
     ]
    }
   ],
   "source": [
    "start_current = 0\n",
    "stop_current=50e-6\n",
    "step_size=10e-6\n",
    "delay=2e-3\n",
    "delta=20e-6\n",
    "buffer_points = int((stop_current - start_current) / step_size + 1)\n",
    "##############################################################################################\n",
    "estimated_time = buffer_points * (delay) + 10\n",
    "dev.RunDifferentialConductanceMeasurements(\n",
    "    start_current=start_current,\n",
    "    stop_current=stop_current,\n",
    "    step_size=step_size,\n",
    "    delay=delay,\n",
    "    delta=delta,\n",
    "    buffer_points=buffer_points\n",
    ")\n",
    "dev.AbortSWE()\n"
   ]
  },
  {
   "cell_type": "code",
   "execution_count": 62,
   "metadata": {},
   "outputs": [
    {
     "name": "stdout",
     "output_type": "stream",
     "text": [
      "Trace actual size 1\n",
      "Trace buffer free size 2097120,32\n",
      "Trace length: 2\n",
      "Trace numbers:  [0.0106833, 0.0]\n",
      "Trace data type: DCON\n"
     ]
    },
    {
     "data": {
      "image/png": "[encoded data removed]",
      "text/plain": [
       "<Figure size 432x288 with 1 Axes>"
      ]
     },
     "metadata": {
      "needs_background": "light"
     },
     "output_type": "display_data"
    }
   ],
   "source": [
    "count = dev.get_trace_actual_data_points()\n",
    "print(\"Trace actual size\", count)\n",
    "print(\"Trace buffer free size\", dev.get_trace_free_memory())\n",
    "numbers = dev.get_trace_data()\n",
    "print(f\"Trace length: {len(numbers)}\")\n",
    "print(f\"Trace numbers: \", numbers)\n",
    "points = [numbers[2 * i] for i in range(count)]\n",
    "currents = [start_current + i * step_size for i in range(points.__len__())]\n",
    "time_stamps = [numbers[2 * i + 1] for i in range(count)]\n",
    "print(f\"Trace data type: {dev.get_trace_data_type()}\")\n",
    "plt.plot(currents, points, \"o\")\n",
    "plt.show()"
   ]
  },
  {
   "cell_type": "code",
   "execution_count": 22,
   "metadata": {},
   "outputs": [
    {
     "name": "stdout",
     "output_type": "stream",
     "text": [
      "Trace actual size 1\n"
     ]
    }
   ],
   "source": [
    "count = dev.get_trace_actual_data_points()\n",
    "print(\"Trace actual size\", count)"
   ]
  },
  {
   "cell_type": "code",
   "execution_count": 23,
   "metadata": {},
   "outputs": [
    {
     "data": {
      "text/plain": [
       "[-1e-05]"
      ]
     },
     "execution_count": 23,
     "metadata": {},
     "output_type": "execute_result"
    }
   ],
   "source": [
    "currents"
   ]
  },
  {
   "cell_type": "code",
   "execution_count": 32,
   "metadata": {},
   "outputs": [
    {
     "data": {
      "text/plain": [
       "'0.00000'"
      ]
     },
     "execution_count": 32,
     "metadata": {},
     "output_type": "execute_result"
    }
   ],
   "source": [
    "dev.WriteCommand(\"SOUR:DCON:DELTa 1e-6\")\n",
    "dev.QueryCommand(\"SOUR:DCON:DELTa?\")"
   ]
  },
  {
   "cell_type": "code",
   "execution_count": 33,
   "metadata": {},
   "outputs": [
    {
     "data": {
      "text/plain": [
       "'1.000000E-04'"
      ]
     },
     "execution_count": 33,
     "metadata": {},
     "output_type": "execute_result"
    }
   ],
   "source": [
    "dev.QueryCommand(f\"SOUR:DCON:STOP?\")\n"
   ]
  },
  {
   "cell_type": "code",
   "execution_count": 37,
   "metadata": {},
   "outputs": [],
   "source": [
    "dev.RunLinSweep(st=10e-6, en=100e-6, step=0.1e-6)"
   ]
  },
  {
   "cell_type": "code",
   "execution_count": 24,
   "metadata": {},
   "outputs": [],
   "source": [
    "a=\"\"\"*RST ‘ Restores 622x defaults.\n",
    "SOUR:DCON:STARt 0 ‘ Sets start value to 0µA.\n",
    "SOUR:DCON:STEP 10e-6 ‘ Sets step size to 10µA.\n",
    "SOUR:DCON:STOP 50e-6 ‘ Sets stop value to 50µA.\n",
    "SOUR:DCON:DELTa 20e-6 ‘ Sets delta value to 20µA.\n",
    "SOUR:DCON:DELay 1e-3 ‘ Sets delay to 1ms.\n",
    "SOUR:DCON:CAB ON ‘ Enables Compliance Abort.\n",
    "TRAC:POIN 6 ‘ Sets buffer size to six points. A\n",
    "SOUR:DCON:ARM ‘ Arms Differential Conductance.\n",
    "INIT:IMM \"\"\""
   ]
  },
  {
   "cell_type": "code",
   "execution_count": 43,
   "metadata": {},
   "outputs": [],
   "source": [
    "dev.WriteCommand(\"*RST\")\n",
    "dev.WriteCommand(\"SOUR:DCON:STARt 0 \")\n",
    "dev.WriteCommand(\"SOUR:DCON:STEP 10e-6\")\n",
    "dev.WriteCommand(\"SOUR:DCON:STOP 50e-6\")\n",
    "dev.WriteCommand(\"SOUR:DCON:DELTa 20e-6 \")\n",
    "dev.WriteCommand(\"SOUR:DCON:DELay 1e-3\")\n",
    "dev.WriteCommand(\"SOUR:DCON:CAB OFF\")\n",
    "dev.WriteCommand(\"TRAC:POIN 6\")\n",
    "dev.WriteCommand(\"SOUR:DCON:ARM\")\n",
    "dev.WriteCommand(\"INIT:IMM\")"
   ]
  },
  {
   "cell_type": "code",
   "execution_count": 22,
   "metadata": {},
   "outputs": [
    {
     "data": {
      "text/plain": [
       "'*RST ‘ Restores 622x defaults.SOUR:DCON:STARt 0 ‘ Sets start value to 0µA.SOUR:DCON:STEP 10e-6 ‘ Sets step size to 10µA.SOUR:DCON:STOP 50e-6 ‘ Sets stop value to 50µA.SOUR:DCON:DELTa 20e-6 ‘ Sets delta value to 20µA.SOUR:DCON:DELay 1e-3 ‘ Sets delay to 1ms.SOUR:DCON:CAB ON ‘ Enables Compliance Abort.TRAC:POIN 6 ‘ Sets buffer size to six points. ASOUR:DCON:ARM ‘ Arms Differential Conductance.INIT:IMM '"
      ]
     },
     "execution_count": 22,
     "metadata": {},
     "output_type": "execute_result"
    }
   ],
   "source": [
    "a"
   ]
  },
  {
   "cell_type": "code",
   "execution_count": null,
   "metadata": {},
   "outputs": [],
   "source": []
  }
 ],
 "metadata": {
  "interpreter": {
   "hash": "d5ace9fa8a4772c7045cb25a70f2b01b809d20a88cc22597a4b389cfa894c1f5"
  },
  "kernelspec": {
   "display_name": "Python 3.7.6 ('ppms')",
   "language": "python",
   "name": "python3"
  },
  "language_info": {
   "codemirror_mode": {
    "name": "ipython",
    "version": 3
   },
   "file_extension": ".py",
   "mimetype": "text/x-python",
   "name": "python",
   "nbconvert_exporter": "python",
   "pygments_lexer": "ipython3",
   "version": "3.7.6"
  },
  "orig_nbformat": 4
 },
 "nbformat": 4,
 "nbformat_minor": 2
}
