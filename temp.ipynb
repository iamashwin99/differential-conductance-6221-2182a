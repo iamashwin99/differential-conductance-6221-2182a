{
 "cells": [
  {
   "cell_type": "code",
   "execution_count": 1,
   "metadata": {},
   "outputs": [],
   "source": [
    "from k6221 import *\n",
    "import plotly.express as px"
   ]
  },
  {
   "cell_type": "code",
   "execution_count": 2,
   "metadata": {},
   "outputs": [],
   "source": [
    "rm = pyvisa.ResourceManager()\n",
    "x = None"
   ]
  },
  {
   "cell_type": "code",
   "execution_count": 3,
   "metadata": {},
   "outputs": [],
   "source": [
    "address = \"TCPIP::10.0.4.138::1394::SOCKET\"\n",
    "dev = Keithley6221(address=address, rm=rm)\n"
   ]
  },
  {
   "cell_type": "code",
   "execution_count": 4,
   "metadata": {},
   "outputs": [
    {
     "name": "stdout",
     "output_type": "stream",
     "text": [
      "KEITHLEY INSTRUMENTS INC.,MODEL 6221,4018989,D02  /700x \n"
     ]
    }
   ],
   "source": [
    "print(dev.get_idn())"
   ]
  },
  {
   "cell_type": "code",
   "execution_count": 11,
   "metadata": {},
   "outputs": [],
   "source": [
    "\n",
    "def plotTrace(start_current = False,step_size=False):\n",
    "    count = dev.get_trace_actual_data_points()\n",
    "    print(\"Trace actual size\", count)\n",
    "    print(\"Trace buffer free size\", dev.get_trace_free_memory())\n",
    "    numbers = dev.get_trace_data()\n",
    "    print(f\"Trace length: {len(numbers)}\")\n",
    "    OutputUnits=dev.get_units().value.title()\n",
    "    print(f\"Output units : {OutputUnits}\")\n",
    "    if(len(numbers)<50):\n",
    "        print(f\"Trace numbers: \", numbers)\n",
    "    points = [numbers[2 * i] for i in range(count)]\n",
    "    if(start_current !=False and step_size !=False):\n",
    "        currents = [start_current + i * step_size for i in range(points.__len__())]\n",
    "        # plt.plot(currents, points, \"o\")\n",
    "        # plt.xlabel(\"Current (A)\")\n",
    "        # plt.ylabel(\"Voltage (V)\")\n",
    "        # plt.title(\"Voltage vs Current\")\n",
    "        # plt.grid(True)\n",
    "        # plt.show()\n",
    "        fig = px.line(x=currents, y=points, labels={\"x\": \"Current (A)\", \"y\": f\"{OutputUnits}\"}, title=f\"{OutputUnits} vs Current\",markers=True)\n",
    "        return fig.show()\n",
    "\n",
    "\n",
    "       \n",
    "    \n",
    "    time_stamps = [numbers[2 * i + 1] for i in range(count)]\n",
    "    print(f\"Trace data type: {dev.get_trace_data_type()}\")\n",
    "    # plt.plot(time_stamps,points, \"o\")\n",
    "    # plt.xlabel(\"Time (s)\")\n",
    "    # plt.ylabel(\"Voltage (V)\")\n",
    "    # plt.title(\"Voltage vs Time\")\n",
    "    # plt.grid(True)\n",
    "    # return plt.show()\n",
    "    fig = px.line(x=time_stamps, y=points, labels={\"x\": \"Time (s)\", \"y\": f\"{OutputUnits}\"}, title=f\"{OutputUnits} vs Time\", markers=True)\n",
    "    return fig.show()\n",
    "    "
   ]
  },
  {
   "cell_type": "code",
   "execution_count": 7,
   "metadata": {},
   "outputs": [
    {
     "data": {
      "text/plain": [
       "'OHMS'"
      ]
     },
     "execution_count": 7,
     "metadata": {},
     "output_type": "execute_result"
    }
   ],
   "source": [
    "dev.get_units().value"
   ]
  },
  {
   "cell_type": "code",
   "execution_count": 9,
   "metadata": {},
   "outputs": [],
   "source": [
    "dev.RunDeltaMeasurements(\n",
    "            units=dev.UNITS.Ohms,\n",
    "            current=1e-6,\n",
    "            delay=1,\n",
    "            count=\"INF\",\n",
    "            swe_count=1,\n",
    "    )"
   ]
  },
  {
   "cell_type": "code",
   "execution_count": 12,
   "metadata": {},
   "outputs": [
    {
     "name": "stdout",
     "output_type": "stream",
     "text": [
      "Trace actual size 225\n",
      "Trace buffer free size 2089952,7200\n",
      "Trace length: 450\n",
      "Output units : Ohms\n",
      "Trace data type: DELT\n"
     ]
    },
    {
     "data": {
      "application/vnd.plotly.v1+json": {
       "config": {
        "plotlyServerURL": "https://plot.ly"
       },
       "data": [
        {
         "hovertemplate": "Time (s)=%{x}<br>Ohms=%{y}<extra></extra>",
         "legendgroup": "",
         "line": {
          "color": "#636efa",
          "dash": "solid"
         },
         "marker": {
          "symbol": "circle"
         },
         "mode": "markers+lines",
         "name": "",
         "orientation": "v",
         "showlegend": false,
         "type": "scatter",
         "x": [
          0,
          1.027,
          2.054,
          3.081,
          4.108,
          5.135,
          6.162,
          7.189,
          8.216,
          9.243,
          10.27,
          11.297,
          12.324,
          13.351,
          14.378,
          15.405,
          16.432,
          17.459,
          18.486,
          19.513,
          20.54,
          21.567,
          22.594,
          23.621,
          24.648,
          25.675,
          26.702,
          27.729,
          28.756,
          29.783,
          30.81,
          31.837,
          32.864,
          33.891,
          34.918,
          35.945,
          36.972,
          37.999,
          39.026,
          40.053,
          41.08,
          42.107,
          43.134,
          44.161,
          45.188,
          46.215,
          47.242,
          48.269,
          49.296,
          50.323,
          51.35,
          52.377,
          53.404,
          54.431,
          55.458,
          56.485,
          57.512,
          58.539,
          59.566,
          60.593,
          61.62,
          62.647,
          63.674,
          64.701,
          65.728,
          66.755,
          67.782,
          68.809,
          69.836,
          70.863,
          71.89,
          72.917,
          73.944,
          74.971,
          75.998,
          77.025,
          78.052,
          79.079,
          80.106,
          81.133,
          82.16,
          83.187,
          84.214,
          85.241,
          86.268,
          87.295,
          88.322,
          89.349,
          90.376,
          91.403,
          92.43,
          93.457,
          94.484,
          95.511,
          96.538,
          97.565,
          98.592,
          99.619,
          100.646,
          101.673,
          102.7,
          103.727,
          104.754,
          105.781,
          106.808,
          107.835,
          108.862,
          109.889,
          110.916,
          111.943,
          112.97,
          113.997,
          115.024,
          116.051,
          117.078,
          118.105,
          119.132,
          120.159,
          121.186,
          122.213,
          123.24,
          124.267,
          125.294,
          126.321,
          127.348,
          128.375,
          129.402,
          130.429,
          131.456,
          132.483,
          133.51,
          134.537,
          135.564,
          136.591,
          137.618,
          138.645,
          139.672,
          140.699,
          141.726,
          142.753,
          143.78,
          144.807,
          145.834,
          146.861,
          147.888,
          148.915,
          149.942,
          150.969,
          151.996,
          153.023,
          154.05,
          155.077,
          156.104,
          157.131,
          158.158,
          159.185,
          160.212,
          161.239,
          162.266,
          163.293,
          164.32,
          165.347,
          166.374,
          167.401,
          168.428,
          169.455,
          170.482,
          171.509,
          172.536,
          173.563,
          174.59,
          175.617,
          176.644,
          177.671,
          178.698,
          179.725,
          180.752,
          181.779,
          182.806,
          183.833,
          184.86,
          185.887,
          186.914,
          187.941,
          188.968,
          189.995,
          191.022,
          192.049,
          193.076,
          194.103,
          195.13,
          196.157,
          197.184,
          198.211,
          199.238,
          200.265,
          201.292,
          202.319,
          203.346,
          204.373,
          205.4,
          206.427,
          207.454,
          208.481,
          209.508,
          210.535,
          211.562,
          212.589,
          213.616,
          214.643,
          215.67,
          216.697,
          217.724,
          218.751,
          219.778,
          220.805,
          221.832,
          222.859,
          223.886,
          224.913,
          225.94,
          226.967,
          227.994,
          229.021,
          230.048
         ],
         "xaxis": "x",
         "y": [
          740.295959,
          721.386902,
          722.511108,
          723.963684,
          724.026855,
          723.862671,
          724.266846,
          724.481567,
          724.532104,
          724.582642,
          724.27948,
          724.36792,
          724.8479,
          724.001587,
          722.902649,
          723.862671,
          724.75946,
          723.420593,
          722.359558,
          723.193176,
          723.900574,
          723.546875,
          723.256348,
          723.812134,
          722.66272,
          720.578552,
          721.967957,
          724.090027,
          724.216309,
          723.976318,
          724.178467,
          724.468933,
          724.60791,
          724.734192,
          724.405823,
          723.837402,
          723.7995,
          724.102661,
          724.342651,
          723.38269,
          722.296387,
          723.155273,
          723.938477,
          724.052124,
          723.319519,
          722.460571,
          723.534241,
          724.380554,
          724.304749,
          723.344788,
          722.296387,
          723.155273,
          723.824768,
          723.913208,
          723.357422,
          722.447937,
          723.319519,
          724.216309,
          724.317383,
          723.559509,
          722.57428,
          723.610046,
          724.633179,
          724.45636,
          723.205811,
          721.930054,
          723.003723,
          724.27948,
          724.36792,
          724.27948,
          724.077393,
          724.077393,
          724.12793,
          724.140564,
          724.380554,
          724.077393,
          723.597412,
          723.7995,
          724.090027,
          724.355286,
          724.506836,
          724.304749,
          723.193176,
          722.346924,
          721.311157,
          720.262756,
          722.523743,
          724.532104,
          724.241577,
          723.117432,
          722.233215,
          722.852173,
          723.395325,
          723.862671,
          723.38269,
          722.460571,
          723.332153,
          724.165833,
          723.167969,
          721.816406,
          722.359558,
          724.026855,
          724.961609,
          724.93634,
          723.483704,
          722.132202,
          722.953186,
          723.95105,
          724.052124,
          723.660583,
          723.420532,
          724.064758,
          724.633179,
          724.266846,
          722.789001,
          722.056396,
          723.193176,
          724.228943,
          724.254211,
          723.344788,
          722.789001,
          723.685791,
          724.45636,
          724.633179,
          723.559509,
          722.473206,
          723.319519,
          724.090027,
          724.153198,
          722.81427,
          721.487976,
          723.041626,
          724.405823,
          724.140564,
          723.862671,
          724.014221,
          724.45636,
          723.584778,
          722.536377,
          723.395325,
          724.178467,
          724.266846,
          724.620544,
          724.468933,
          723.521606,
          723.092163,
          723.698425,
          724.052124,
          724.026855,
          723.824768,
          723.698425,
          724.203674,
          724.27948,
          723.761597,
          723.458435,
          723.875305,
          723.38269,
          722.309021,
          723.445801,
          724.557373,
          724.405823,
          724.380554,
          724.443726,
          724.393188,
          723.786865,
          723.281616,
          723.774231,
          723.572144,
          722.991089,
          723.622681,
          723.698425,
          723.281616,
          723.736328,
          724.165833,
          724.014221,
          723.875305,
          724.506836,
          725.125793,
          725.024719,
          724.898438,
          724.582642,
          723.660583,
          723.205811,
          723.887939,
          723.786865,
          722.713196,
          722.978455,
          723.988953,
          723.38269,
          722.599548,
          723.534241,
          724.532104,
          724.671082,
          724.254211,
          723.635315,
          723.496338,
          722.789001,
          721.829041,
          722.700562,
          724.026855,
          723.559509,
          722.763733,
          723.458435,
          724.001587,
          723.243713,
          722.031128,
          722.195313,
          723.71106,
          723.660583,
          722.498474,
          722.953186,
          724.431091,
          724.683716,
          723.850037,
          723.521606,
          724.026855,
          724.418457,
          724.468933,
          724.570007,
          724.544739,
          723.496338,
          722.662659,
          723.71106,
          724.557373,
          724.001587
         ],
         "yaxis": "y"
        }
       ],
       "layout": {
        "legend": {
         "tracegroupgap": 0
        },
        "template": {
         "data": {
          "bar": [
           {
            "error_x": {
             "color": "#2a3f5f"
            },
            "error_y": {
             "color": "#2a3f5f"
            },
            "marker": {
             "line": {
              "color": "#E5ECF6",
              "width": 0.5
             },
             "pattern": {
              "fillmode": "overlay",
              "size": 10,
              "solidity": 0.2
             }
            },
            "type": "bar"
           }
          ],
          "barpolar": [
           {
            "marker": {
             "line": {
              "color": "#E5ECF6",
              "width": 0.5
             },
             "pattern": {
              "fillmode": "overlay",
              "size": 10,
              "solidity": 0.2
             }
            },
            "type": "barpolar"
           }
          ],
          "carpet": [
           {
            "aaxis": {
             "endlinecolor": "#2a3f5f",
             "gridcolor": "white",
             "linecolor": "white",
             "minorgridcolor": "white",
             "startlinecolor": "#2a3f5f"
            },
            "baxis": {
             "endlinecolor": "#2a3f5f",
             "gridcolor": "white",
             "linecolor": "white",
             "minorgridcolor": "white",
             "startlinecolor": "#2a3f5f"
            },
            "type": "carpet"
           }
          ],
          "choropleth": [
           {
            "colorbar": {
             "outlinewidth": 0,
             "ticks": ""
            },
            "type": "choropleth"
           }
          ],
          "contour": [
           {
            "colorbar": {
             "outlinewidth": 0,
             "ticks": ""
            },
            "colorscale": [
             [
              0,
              "#0d0887"
             ],
             [
              0.1111111111111111,
              "#46039f"
             ],
             [
              0.2222222222222222,
              "#7201a8"
             ],
             [
              0.3333333333333333,
              "#9c179e"
             ],
             [
              0.4444444444444444,
              "#bd3786"
             ],
             [
              0.5555555555555556,
              "#d8576b"
             ],
             [
              0.6666666666666666,
              "#ed7953"
             ],
             [
              0.7777777777777778,
              "#fb9f3a"
             ],
             [
              0.8888888888888888,
              "#fdca26"
             ],
             [
              1,
              "#f0f921"
             ]
            ],
            "type": "contour"
           }
          ],
          "contourcarpet": [
           {
            "colorbar": {
             "outlinewidth": 0,
             "ticks": ""
            },
            "type": "contourcarpet"
           }
          ],
          "heatmap": [
           {
            "colorbar": {
             "outlinewidth": 0,
             "ticks": ""
            },
            "colorscale": [
             [
              0,
              "#0d0887"
             ],
             [
              0.1111111111111111,
              "#46039f"
             ],
             [
              0.2222222222222222,
              "#7201a8"
             ],
             [
              0.3333333333333333,
              "#9c179e"
             ],
             [
              0.4444444444444444,
              "#bd3786"
             ],
             [
              0.5555555555555556,
              "#d8576b"
             ],
             [
              0.6666666666666666,
              "#ed7953"
             ],
             [
              0.7777777777777778,
              "#fb9f3a"
             ],
             [
              0.8888888888888888,
              "#fdca26"
             ],
             [
              1,
              "#f0f921"
             ]
            ],
            "type": "heatmap"
           }
          ],
          "heatmapgl": [
           {
            "colorbar": {
             "outlinewidth": 0,
             "ticks": ""
            },
            "colorscale": [
             [
              0,
              "#0d0887"
             ],
             [
              0.1111111111111111,
              "#46039f"
             ],
             [
              0.2222222222222222,
              "#7201a8"
             ],
             [
              0.3333333333333333,
              "#9c179e"
             ],
             [
              0.4444444444444444,
              "#bd3786"
             ],
             [
              0.5555555555555556,
              "#d8576b"
             ],
             [
              0.6666666666666666,
              "#ed7953"
             ],
             [
              0.7777777777777778,
              "#fb9f3a"
             ],
             [
              0.8888888888888888,
              "#fdca26"
             ],
             [
              1,
              "#f0f921"
             ]
            ],
            "type": "heatmapgl"
           }
          ],
          "histogram": [
           {
            "marker": {
             "pattern": {
              "fillmode": "overlay",
              "size": 10,
              "solidity": 0.2
             }
            },
            "type": "histogram"
           }
          ],
          "histogram2d": [
           {
            "colorbar": {
             "outlinewidth": 0,
             "ticks": ""
            },
            "colorscale": [
             [
              0,
              "#0d0887"
             ],
             [
              0.1111111111111111,
              "#46039f"
             ],
             [
              0.2222222222222222,
              "#7201a8"
             ],
             [
              0.3333333333333333,
              "#9c179e"
             ],
             [
              0.4444444444444444,
              "#bd3786"
             ],
             [
              0.5555555555555556,
              "#d8576b"
             ],
             [
              0.6666666666666666,
              "#ed7953"
             ],
             [
              0.7777777777777778,
              "#fb9f3a"
             ],
             [
              0.8888888888888888,
              "#fdca26"
             ],
             [
              1,
              "#f0f921"
             ]
            ],
            "type": "histogram2d"
           }
          ],
          "histogram2dcontour": [
           {
            "colorbar": {
             "outlinewidth": 0,
             "ticks": ""
            },
            "colorscale": [
             [
              0,
              "#0d0887"
             ],
             [
              0.1111111111111111,
              "#46039f"
             ],
             [
              0.2222222222222222,
              "#7201a8"
             ],
             [
              0.3333333333333333,
              "#9c179e"
             ],
             [
              0.4444444444444444,
              "#bd3786"
             ],
             [
              0.5555555555555556,
              "#d8576b"
             ],
             [
              0.6666666666666666,
              "#ed7953"
             ],
             [
              0.7777777777777778,
              "#fb9f3a"
             ],
             [
              0.8888888888888888,
              "#fdca26"
             ],
             [
              1,
              "#f0f921"
             ]
            ],
            "type": "histogram2dcontour"
           }
          ],
          "mesh3d": [
           {
            "colorbar": {
             "outlinewidth": 0,
             "ticks": ""
            },
            "type": "mesh3d"
           }
          ],
          "parcoords": [
           {
            "line": {
             "colorbar": {
              "outlinewidth": 0,
              "ticks": ""
             }
            },
            "type": "parcoords"
           }
          ],
          "pie": [
           {
            "automargin": true,
            "type": "pie"
           }
          ],
          "scatter": [
           {
            "marker": {
             "colorbar": {
              "outlinewidth": 0,
              "ticks": ""
             }
            },
            "type": "scatter"
           }
          ],
          "scatter3d": [
           {
            "line": {
             "colorbar": {
              "outlinewidth": 0,
              "ticks": ""
             }
            },
            "marker": {
             "colorbar": {
              "outlinewidth": 0,
              "ticks": ""
             }
            },
            "type": "scatter3d"
           }
          ],
          "scattercarpet": [
           {
            "marker": {
             "colorbar": {
              "outlinewidth": 0,
              "ticks": ""
             }
            },
            "type": "scattercarpet"
           }
          ],
          "scattergeo": [
           {
            "marker": {
             "colorbar": {
              "outlinewidth": 0,
              "ticks": ""
             }
            },
            "type": "scattergeo"
           }
          ],
          "scattergl": [
           {
            "marker": {
             "colorbar": {
              "outlinewidth": 0,
              "ticks": ""
             }
            },
            "type": "scattergl"
           }
          ],
          "scattermapbox": [
           {
            "marker": {
             "colorbar": {
              "outlinewidth": 0,
              "ticks": ""
             }
            },
            "type": "scattermapbox"
           }
          ],
          "scatterpolar": [
           {
            "marker": {
             "colorbar": {
              "outlinewidth": 0,
              "ticks": ""
             }
            },
            "type": "scatterpolar"
           }
          ],
          "scatterpolargl": [
           {
            "marker": {
             "colorbar": {
              "outlinewidth": 0,
              "ticks": ""
             }
            },
            "type": "scatterpolargl"
           }
          ],
          "scatterternary": [
           {
            "marker": {
             "colorbar": {
              "outlinewidth": 0,
              "ticks": ""
             }
            },
            "type": "scatterternary"
           }
          ],
          "surface": [
           {
            "colorbar": {
             "outlinewidth": 0,
             "ticks": ""
            },
            "colorscale": [
             [
              0,
              "#0d0887"
             ],
             [
              0.1111111111111111,
              "#46039f"
             ],
             [
              0.2222222222222222,
              "#7201a8"
             ],
             [
              0.3333333333333333,
              "#9c179e"
             ],
             [
              0.4444444444444444,
              "#bd3786"
             ],
             [
              0.5555555555555556,
              "#d8576b"
             ],
             [
              0.6666666666666666,
              "#ed7953"
             ],
             [
              0.7777777777777778,
              "#fb9f3a"
             ],
             [
              0.8888888888888888,
              "#fdca26"
             ],
             [
              1,
              "#f0f921"
             ]
            ],
            "type": "surface"
           }
          ],
          "table": [
           {
            "cells": {
             "fill": {
              "color": "#EBF0F8"
             },
             "line": {
              "color": "white"
             }
            },
            "header": {
             "fill": {
              "color": "#C8D4E3"
             },
             "line": {
              "color": "white"
             }
            },
            "type": "table"
           }
          ]
         },
         "layout": {
          "annotationdefaults": {
           "arrowcolor": "#2a3f5f",
           "arrowhead": 0,
           "arrowwidth": 1
          },
          "autotypenumbers": "strict",
          "coloraxis": {
           "colorbar": {
            "outlinewidth": 0,
            "ticks": ""
           }
          },
          "colorscale": {
           "diverging": [
            [
             0,
             "#8e0152"
            ],
            [
             0.1,
             "#c51b7d"
            ],
            [
             0.2,
             "#de77ae"
            ],
            [
             0.3,
             "#f1b6da"
            ],
            [
             0.4,
             "#fde0ef"
            ],
            [
             0.5,
             "#f7f7f7"
            ],
            [
             0.6,
             "#e6f5d0"
            ],
            [
             0.7,
             "#b8e186"
            ],
            [
             0.8,
             "#7fbc41"
            ],
            [
             0.9,
             "#4d9221"
            ],
            [
             1,
             "#276419"
            ]
           ],
           "sequential": [
            [
             0,
             "#0d0887"
            ],
            [
             0.1111111111111111,
             "#46039f"
            ],
            [
             0.2222222222222222,
             "#7201a8"
            ],
            [
             0.3333333333333333,
             "#9c179e"
            ],
            [
             0.4444444444444444,
             "#bd3786"
            ],
            [
             0.5555555555555556,
             "#d8576b"
            ],
            [
             0.6666666666666666,
             "#ed7953"
            ],
            [
             0.7777777777777778,
             "#fb9f3a"
            ],
            [
             0.8888888888888888,
             "#fdca26"
            ],
            [
             1,
             "#f0f921"
            ]
           ],
           "sequentialminus": [
            [
             0,
             "#0d0887"
            ],
            [
             0.1111111111111111,
             "#46039f"
            ],
            [
             0.2222222222222222,
             "#7201a8"
            ],
            [
             0.3333333333333333,
             "#9c179e"
            ],
            [
             0.4444444444444444,
             "#bd3786"
            ],
            [
             0.5555555555555556,
             "#d8576b"
            ],
            [
             0.6666666666666666,
             "#ed7953"
            ],
            [
             0.7777777777777778,
             "#fb9f3a"
            ],
            [
             0.8888888888888888,
             "#fdca26"
            ],
            [
             1,
             "#f0f921"
            ]
           ]
          },
          "colorway": [
           "#636efa",
           "#EF553B",
           "#00cc96",
           "#ab63fa",
           "#FFA15A",
           "#19d3f3",
           "#FF6692",
           "#B6E880",
           "#FF97FF",
           "#FECB52"
          ],
          "font": {
           "color": "#2a3f5f"
          },
          "geo": {
           "bgcolor": "white",
           "lakecolor": "white",
           "landcolor": "#E5ECF6",
           "showlakes": true,
           "showland": true,
           "subunitcolor": "white"
          },
          "hoverlabel": {
           "align": "left"
          },
          "hovermode": "closest",
          "mapbox": {
           "style": "light"
          },
          "paper_bgcolor": "white",
          "plot_bgcolor": "#E5ECF6",
          "polar": {
           "angularaxis": {
            "gridcolor": "white",
            "linecolor": "white",
            "ticks": ""
           },
           "bgcolor": "#E5ECF6",
           "radialaxis": {
            "gridcolor": "white",
            "linecolor": "white",
            "ticks": ""
           }
          },
          "scene": {
           "xaxis": {
            "backgroundcolor": "#E5ECF6",
            "gridcolor": "white",
            "gridwidth": 2,
            "linecolor": "white",
            "showbackground": true,
            "ticks": "",
            "zerolinecolor": "white"
           },
           "yaxis": {
            "backgroundcolor": "#E5ECF6",
            "gridcolor": "white",
            "gridwidth": 2,
            "linecolor": "white",
            "showbackground": true,
            "ticks": "",
            "zerolinecolor": "white"
           },
           "zaxis": {
            "backgroundcolor": "#E5ECF6",
            "gridcolor": "white",
            "gridwidth": 2,
            "linecolor": "white",
            "showbackground": true,
            "ticks": "",
            "zerolinecolor": "white"
           }
          },
          "shapedefaults": {
           "line": {
            "color": "#2a3f5f"
           }
          },
          "ternary": {
           "aaxis": {
            "gridcolor": "white",
            "linecolor": "white",
            "ticks": ""
           },
           "baxis": {
            "gridcolor": "white",
            "linecolor": "white",
            "ticks": ""
           },
           "bgcolor": "#E5ECF6",
           "caxis": {
            "gridcolor": "white",
            "linecolor": "white",
            "ticks": ""
           }
          },
          "title": {
           "x": 0.05
          },
          "xaxis": {
           "automargin": true,
           "gridcolor": "white",
           "linecolor": "white",
           "ticks": "",
           "title": {
            "standoff": 15
           },
           "zerolinecolor": "white",
           "zerolinewidth": 2
          },
          "yaxis": {
           "automargin": true,
           "gridcolor": "white",
           "linecolor": "white",
           "ticks": "",
           "title": {
            "standoff": 15
           },
           "zerolinecolor": "white",
           "zerolinewidth": 2
          }
         }
        },
        "title": {
         "text": "Ohms vs Time"
        },
        "xaxis": {
         "anchor": "y",
         "domain": [
          0,
          1
         ],
         "title": {
          "text": "Time (s)"
         }
        },
        "yaxis": {
         "anchor": "x",
         "domain": [
          0,
          1
         ],
         "title": {
          "text": "Ohms"
         }
        }
       }
      }
     },
     "metadata": {},
     "output_type": "display_data"
    }
   ],
   "source": [
    "plotTrace()\n"
   ]
  },
  {
   "cell_type": "code",
   "execution_count": 13,
   "metadata": {},
   "outputs": [],
   "source": [
    "dev.WriteCommand(\"SOUR:SWE:ABOR\")\n"
   ]
  },
  {
   "cell_type": "code",
   "execution_count": 29,
   "metadata": {},
   "outputs": [],
   "source": [
    "rm.close()"
   ]
  },
  {
   "cell_type": "code",
   "execution_count": 31,
   "metadata": {},
   "outputs": [
    {
     "name": "stdout",
     "output_type": "stream",
     "text": [
      "And START_CURRENT =  -9.000000E-04\n",
      "And STOP_CURRENT =  9.000000E-04\n",
      "And STEP =  1.000000E-05\n",
      "And DELTA =  0.00002\n",
      "And DELAY =  0.00200\n",
      "And CAB =  1\n",
      "dIdV program is fully initialized!\n"
     ]
    }
   ],
   "source": [
    "start_current = -900e-6\n",
    "stop_current=900e-6\n",
    "step_size=10e-6\n",
    "delay=2e-3\n",
    "delta=20e-6\n",
    "buffer_points = int((stop_current - start_current) / step_size + 1)\n",
    "estimated_time = buffer_points * (delay) + 10\n",
    "\n",
    "time.sleep(5)\n",
    "dev.RunDifferentialConductanceMeasurements(\n",
    "    units=dev.UNITS.Volts,\n",
    "    start_current=start_current,\n",
    "    stop_current=stop_current,\n",
    "    step_size=step_size,\n",
    "    delay=delay,\n",
    "    delta=delta,\n",
    "    buffer_points=buffer_points,\n",
    "    enable_compliance_abort=dev.ON_OFF_STATE.ON\n",
    "    \n",
    ")\n",
    "# time.sleep(estimated_time)\n",
    "# plotTrace()\n",
    "\n"
   ]
  },
  {
   "cell_type": "code",
   "execution_count": 30,
   "metadata": {},
   "outputs": [
    {
     "name": "stdout",
     "output_type": "stream",
     "text": [
      "Trace actual size 181\n",
      "Trace buffer free size 2091360,5792\n",
      "Trace length: 362\n",
      "Output units : V\n"
     ]
    },
    {
     "data": {
      "application/vnd.plotly.v1+json": {
       "config": {
        "plotlyServerURL": "https://plot.ly"
       },
       "data": [
        {
         "hovertemplate": "Current (A)=%{x}<br>V=%{y}<extra></extra>",
         "legendgroup": "",
         "line": {
          "color": "#636efa",
          "dash": "solid"
         },
         "marker": {
          "symbol": "circle"
         },
         "mode": "markers+lines",
         "name": "",
         "orientation": "v",
         "showlegend": false,
         "type": "scatter",
         "x": [
          -0.0009,
          -0.00089,
          -0.0008799999999999999,
          -0.00087,
          -0.00086,
          -0.00085,
          -0.0008399999999999999,
          -0.00083,
          -0.00082,
          -0.00081,
          -0.0007999999999999999,
          -0.00079,
          -0.00078,
          -0.00077,
          -0.0007599999999999999,
          -0.00075,
          -0.00074,
          -0.00073,
          -0.0007199999999999999,
          -0.0007099999999999999,
          -0.0007,
          -0.00069,
          -0.0006799999999999999,
          -0.00067,
          -0.00066,
          -0.00065,
          -0.0006399999999999999,
          -0.0006299999999999999,
          -0.0006199999999999999,
          -0.00061,
          -0.0006,
          -0.00059,
          -0.00058,
          -0.00057,
          -0.00056,
          -0.0005499999999999999,
          -0.0005399999999999999,
          -0.0005299999999999999,
          -0.00052,
          -0.0005099999999999999,
          -0.0005,
          -0.00049,
          -0.00047999999999999996,
          -0.00046999999999999993,
          -0.00045999999999999996,
          -0.00044999999999999993,
          -0.00043999999999999996,
          -0.00042999999999999994,
          -0.0004199999999999999,
          -0.0004099999999999999,
          -0.00039999999999999996,
          -0.00038999999999999994,
          -0.0003799999999999999,
          -0.0003699999999999999,
          -0.00035999999999999997,
          -0.00034999999999999994,
          -0.0003399999999999999,
          -0.0003299999999999999,
          -0.00031999999999999997,
          -0.00030999999999999995,
          -0.0002999999999999999,
          -0.0002899999999999999,
          -0.00028,
          -0.00026999999999999995,
          -0.0002599999999999999,
          -0.0002499999999999999,
          -0.00023999999999999987,
          -0.00022999999999999995,
          -0.00021999999999999993,
          -0.0002099999999999999,
          -0.00019999999999999987,
          -0.00018999999999999996,
          -0.00017999999999999993,
          -0.0001699999999999999,
          -0.00015999999999999988,
          -0.00014999999999999996,
          -0.00013999999999999993,
          -0.0001299999999999999,
          -0.00011999999999999988,
          -0.00010999999999999996,
          -0.00009999999999999994,
          -0.00008999999999999991,
          -0.00007999999999999988,
          -0.00006999999999999986,
          -0.00005999999999999994,
          -0.000049999999999999914,
          -0.00003999999999999989,
          -0.000029999999999999862,
          -0.000019999999999999944,
          -0.000009999999999999918,
          1.0842021724855044e-19,
          0.000010000000000000135,
          0.000020000000000000052,
          0.00003000000000000008,
          0.000040000000000000105,
          0.00005000000000000013,
          0.00006000000000000016,
          0.00007000000000000008,
          0.00008000000000000021,
          0.00009000000000000002,
          0.00010000000000000005,
          0.00011000000000000007,
          0.0001200000000000001,
          0.00013000000000000012,
          0.00014000000000000015,
          0.00015000000000000018,
          0.0001600000000000002,
          0.00017,
          0.00018000000000000004,
          0.00019000000000000006,
          0.0002000000000000001,
          0.00021000000000000012,
          0.00022000000000000014,
          0.00023000000000000017,
          0.0002400000000000002,
          0.0002500000000000002,
          0.00026000000000000003,
          0.00027000000000000006,
          0.0002800000000000001,
          0.0002900000000000001,
          0.00030000000000000014,
          0.00031000000000000016,
          0.0003200000000000002,
          0.0003300000000000002,
          0.00034,
          0.00035000000000000005,
          0.0003600000000000001,
          0.0003700000000000001,
          0.00038000000000000013,
          0.00039000000000000016,
          0.0004000000000000002,
          0.0004100000000000002,
          0.00042000000000000023,
          0.00043000000000000004,
          0.00044000000000000007,
          0.0004500000000000001,
          0.0004600000000000001,
          0.00047000000000000015,
          0.0004800000000000002,
          0.0004900000000000002,
          0.0005000000000000002,
          0.00051,
          0.0005200000000000001,
          0.0005300000000000001,
          0.0005400000000000001,
          0.0005500000000000001,
          0.0005600000000000002,
          0.0005700000000000002,
          0.0005800000000000002,
          0.0005900000000000002,
          0.0006000000000000001,
          0.0006100000000000001,
          0.0006200000000000001,
          0.0006300000000000001,
          0.0006400000000000002,
          0.0006500000000000002,
          0.0006600000000000002,
          0.0006700000000000002,
          0.00068,
          0.0006900000000000001,
          0.0007000000000000001,
          0.0007100000000000001,
          0.0007200000000000002,
          0.0007300000000000002,
          0.0007400000000000002,
          0.0007500000000000002,
          0.0007600000000000003,
          0.0007700000000000001,
          0.0007800000000000001,
          0.0007900000000000001,
          0.0008000000000000001,
          0.0008100000000000002,
          0.0008200000000000002,
          0.0008300000000000002,
          0.0008400000000000003,
          0.0008500000000000001,
          0.0008600000000000001,
          0.0008700000000000001,
          0.0008800000000000001,
          0.0008900000000000002,
          0.0009000000000000002
         ],
         "xaxis": "x",
         "y": [
          0.000104809398,
          0.000105624611,
          0.000107255451,
          0.000104911705,
          0.000103817554,
          0.000103338571,
          0.000103189683,
          0.000106323889,
          0.000107496293,
          0.00010485261,
          0.000104412175,
          0.000106025305,
          0.000105479026,
          0.000106476895,
          0.000107440057,
          0.000104475286,
          0.000103951061,
          0.000105908352,
          0.000105450614,
          0.000106351668,
          0.000107308704,
          0.000104779137,
          0.000104385792,
          0.000106062369,
          0.000105526371,
          0.000106168554,
          0.000106958338,
          0.000104437706,
          0.000104213694,
          0.000106149833,
          0.000105565363,
          0.000103694598,
          0.000103635939,
          0.000103609018,
          0.000104213366,
          0.000105828418,
          0.000105198931,
          0.000103633873,
          0.000103658109,
          0.000103600425,
          0.00010420016,
          0.000106051702,
          0.000105517065,
          0.000103717437,
          0.00010364403,
          0.000103382547,
          0.000103928352,
          0.000106072141,
          0.000105623287,
          0.000103731363,
          0.000103639264,
          0.000103602739,
          0.000104208673,
          0.000106074833,
          0.000105482744,
          0.000103487764,
          0.000103464219,
          0.000103498831,
          0.000104098537,
          0.000106082742,
          0.000105566243,
          0.000103730075,
          0.000103654493,
          0.000103589118,
          0.000104125807,
          0.000105567822,
          0.000105002997,
          0.000103593666,
          0.000103621802,
          0.000103581435,
          0.000104167288,
          0.000105980376,
          0.000105432606,
          0.000103623366,
          0.000103584105,
          0.000103372615,
          0.000103893159,
          0.000105836989,
          0.000105361236,
          0.000103698119,
          0.000103667844,
          0.000103610168,
          0.000104184051,
          0.00010598368,
          0.00010545738,
          0.000103671213,
          0.000103600578,
          0.000103562124,
          0.000104177867,
          0.0001060207,
          0.000105577928,
          0.000103784638,
          0.000103720377,
          0.000103575789,
          0.000104140912,
          0.000106052998,
          0.000105560393,
          0.000103758284,
          0.000103695442,
          0.000103570434,
          0.000104123712,
          0.000105995059,
          0.00010548938,
          0.000103768049,
          0.00010371906,
          0.00010329979,
          0.000103769249,
          0.000105981017,
          0.000105567582,
          0.000103772501,
          0.000103720624,
          0.000103648206,
          0.000104214647,
          0.000106026375,
          0.00010550904,
          0.000103703089,
          0.000103633,
          0.000103613769,
          0.000104201885,
          0.000105988605,
          0.000105466424,
          0.000103766251,
          0.000103705854,
          0.000103588536,
          0.000104191924,
          0.00010577825,
          0.000105105217,
          0.000103605431,
          0.0001036924,
          0.000103646242,
          0.000104235078,
          0.000106089115,
          0.000105546686,
          0.000103740735,
          0.000103663151,
          0.000103538136,
          0.000104134626,
          0.000106013664,
          0.00010545666,
          0.000103623781,
          0.000103578306,
          0.000103597093,
          0.000104215484,
          0.000106075735,
          0.000105471649,
          0.000103434904,
          0.000103426137,
          0.000103591534,
          0.000104209197,
          0.000106072861,
          0.000105506217,
          0.000103652179,
          0.000103594233,
          0.000103603852,
          0.000104166087,
          0.000105560466,
          0.000104979554,
          0.00010359814,
          0.000103622348,
          0.000103570921,
          0.000104174731,
          0.000105982603,
          0.000105444509,
          0.000103752027,
          0.000103715174,
          0.000103607468,
          0.00010414709,
          0.000105958818,
          0.000105444982,
          0.000103629412,
          0.000103598082,
          0.000103713472,
          0.000104316845,
          0.00010610051,
          0.000105479354,
          0.000103453363,
          0.000103450358,
          0.000103633072,
          0.000104260689,
          0.000106058957,
          0.000105172265
         ],
         "yaxis": "y"
        }
       ],
       "layout": {
        "legend": {
         "tracegroupgap": 0
        },
        "template": {
         "data": {
          "bar": [
           {
            "error_x": {
             "color": "#2a3f5f"
            },
            "error_y": {
             "color": "#2a3f5f"
            },
            "marker": {
             "line": {
              "color": "#E5ECF6",
              "width": 0.5
             },
             "pattern": {
              "fillmode": "overlay",
              "size": 10,
              "solidity": 0.2
             }
            },
            "type": "bar"
           }
          ],
          "barpolar": [
           {
            "marker": {
             "line": {
              "color": "#E5ECF6",
              "width": 0.5
             },
             "pattern": {
              "fillmode": "overlay",
              "size": 10,
              "solidity": 0.2
             }
            },
            "type": "barpolar"
           }
          ],
          "carpet": [
           {
            "aaxis": {
             "endlinecolor": "#2a3f5f",
             "gridcolor": "white",
             "linecolor": "white",
             "minorgridcolor": "white",
             "startlinecolor": "#2a3f5f"
            },
            "baxis": {
             "endlinecolor": "#2a3f5f",
             "gridcolor": "white",
             "linecolor": "white",
             "minorgridcolor": "white",
             "startlinecolor": "#2a3f5f"
            },
            "type": "carpet"
           }
          ],
          "choropleth": [
           {
            "colorbar": {
             "outlinewidth": 0,
             "ticks": ""
            },
            "type": "choropleth"
           }
          ],
          "contour": [
           {
            "colorbar": {
             "outlinewidth": 0,
             "ticks": ""
            },
            "colorscale": [
             [
              0,
              "#0d0887"
             ],
             [
              0.1111111111111111,
              "#46039f"
             ],
             [
              0.2222222222222222,
              "#7201a8"
             ],
             [
              0.3333333333333333,
              "#9c179e"
             ],
             [
              0.4444444444444444,
              "#bd3786"
             ],
             [
              0.5555555555555556,
              "#d8576b"
             ],
             [
              0.6666666666666666,
              "#ed7953"
             ],
             [
              0.7777777777777778,
              "#fb9f3a"
             ],
             [
              0.8888888888888888,
              "#fdca26"
             ],
             [
              1,
              "#f0f921"
             ]
            ],
            "type": "contour"
           }
          ],
          "contourcarpet": [
           {
            "colorbar": {
             "outlinewidth": 0,
             "ticks": ""
            },
            "type": "contourcarpet"
           }
          ],
          "heatmap": [
           {
            "colorbar": {
             "outlinewidth": 0,
             "ticks": ""
            },
            "colorscale": [
             [
              0,
              "#0d0887"
             ],
             [
              0.1111111111111111,
              "#46039f"
             ],
             [
              0.2222222222222222,
              "#7201a8"
             ],
             [
              0.3333333333333333,
              "#9c179e"
             ],
             [
              0.4444444444444444,
              "#bd3786"
             ],
             [
              0.5555555555555556,
              "#d8576b"
             ],
             [
              0.6666666666666666,
              "#ed7953"
             ],
             [
              0.7777777777777778,
              "#fb9f3a"
             ],
             [
              0.8888888888888888,
              "#fdca26"
             ],
             [
              1,
              "#f0f921"
             ]
            ],
            "type": "heatmap"
           }
          ],
          "heatmapgl": [
           {
            "colorbar": {
             "outlinewidth": 0,
             "ticks": ""
            },
            "colorscale": [
             [
              0,
              "#0d0887"
             ],
             [
              0.1111111111111111,
              "#46039f"
             ],
             [
              0.2222222222222222,
              "#7201a8"
             ],
             [
              0.3333333333333333,
              "#9c179e"
             ],
             [
              0.4444444444444444,
              "#bd3786"
             ],
             [
              0.5555555555555556,
              "#d8576b"
             ],
             [
              0.6666666666666666,
              "#ed7953"
             ],
             [
              0.7777777777777778,
              "#fb9f3a"
             ],
             [
              0.8888888888888888,
              "#fdca26"
             ],
             [
              1,
              "#f0f921"
             ]
            ],
            "type": "heatmapgl"
           }
          ],
          "histogram": [
           {
            "marker": {
             "pattern": {
              "fillmode": "overlay",
              "size": 10,
              "solidity": 0.2
             }
            },
            "type": "histogram"
           }
          ],
          "histogram2d": [
           {
            "colorbar": {
             "outlinewidth": 0,
             "ticks": ""
            },
            "colorscale": [
             [
              0,
              "#0d0887"
             ],
             [
              0.1111111111111111,
              "#46039f"
             ],
             [
              0.2222222222222222,
              "#7201a8"
             ],
             [
              0.3333333333333333,
              "#9c179e"
             ],
             [
              0.4444444444444444,
              "#bd3786"
             ],
             [
              0.5555555555555556,
              "#d8576b"
             ],
             [
              0.6666666666666666,
              "#ed7953"
             ],
             [
              0.7777777777777778,
              "#fb9f3a"
             ],
             [
              0.8888888888888888,
              "#fdca26"
             ],
             [
              1,
              "#f0f921"
             ]
            ],
            "type": "histogram2d"
           }
          ],
          "histogram2dcontour": [
           {
            "colorbar": {
             "outlinewidth": 0,
             "ticks": ""
            },
            "colorscale": [
             [
              0,
              "#0d0887"
             ],
             [
              0.1111111111111111,
              "#46039f"
             ],
             [
              0.2222222222222222,
              "#7201a8"
             ],
             [
              0.3333333333333333,
              "#9c179e"
             ],
             [
              0.4444444444444444,
              "#bd3786"
             ],
             [
              0.5555555555555556,
              "#d8576b"
             ],
             [
              0.6666666666666666,
              "#ed7953"
             ],
             [
              0.7777777777777778,
              "#fb9f3a"
             ],
             [
              0.8888888888888888,
              "#fdca26"
             ],
             [
              1,
              "#f0f921"
             ]
            ],
            "type": "histogram2dcontour"
           }
          ],
          "mesh3d": [
           {
            "colorbar": {
             "outlinewidth": 0,
             "ticks": ""
            },
            "type": "mesh3d"
           }
          ],
          "parcoords": [
           {
            "line": {
             "colorbar": {
              "outlinewidth": 0,
              "ticks": ""
             }
            },
            "type": "parcoords"
           }
          ],
          "pie": [
           {
            "automargin": true,
            "type": "pie"
           }
          ],
          "scatter": [
           {
            "marker": {
             "colorbar": {
              "outlinewidth": 0,
              "ticks": ""
             }
            },
            "type": "scatter"
           }
          ],
          "scatter3d": [
           {
            "line": {
             "colorbar": {
              "outlinewidth": 0,
              "ticks": ""
             }
            },
            "marker": {
             "colorbar": {
              "outlinewidth": 0,
              "ticks": ""
             }
            },
            "type": "scatter3d"
           }
          ],
          "scattercarpet": [
           {
            "marker": {
             "colorbar": {
              "outlinewidth": 0,
              "ticks": ""
             }
            },
            "type": "scattercarpet"
           }
          ],
          "scattergeo": [
           {
            "marker": {
             "colorbar": {
              "outlinewidth": 0,
              "ticks": ""
             }
            },
            "type": "scattergeo"
           }
          ],
          "scattergl": [
           {
            "marker": {
             "colorbar": {
              "outlinewidth": 0,
              "ticks": ""
             }
            },
            "type": "scattergl"
           }
          ],
          "scattermapbox": [
           {
            "marker": {
             "colorbar": {
              "outlinewidth": 0,
              "ticks": ""
             }
            },
            "type": "scattermapbox"
           }
          ],
          "scatterpolar": [
           {
            "marker": {
             "colorbar": {
              "outlinewidth": 0,
              "ticks": ""
             }
            },
            "type": "scatterpolar"
           }
          ],
          "scatterpolargl": [
           {
            "marker": {
             "colorbar": {
              "outlinewidth": 0,
              "ticks": ""
             }
            },
            "type": "scatterpolargl"
           }
          ],
          "scatterternary": [
           {
            "marker": {
             "colorbar": {
              "outlinewidth": 0,
              "ticks": ""
             }
            },
            "type": "scatterternary"
           }
          ],
          "surface": [
           {
            "colorbar": {
             "outlinewidth": 0,
             "ticks": ""
            },
            "colorscale": [
             [
              0,
              "#0d0887"
             ],
             [
              0.1111111111111111,
              "#46039f"
             ],
             [
              0.2222222222222222,
              "#7201a8"
             ],
             [
              0.3333333333333333,
              "#9c179e"
             ],
             [
              0.4444444444444444,
              "#bd3786"
             ],
             [
              0.5555555555555556,
              "#d8576b"
             ],
             [
              0.6666666666666666,
              "#ed7953"
             ],
             [
              0.7777777777777778,
              "#fb9f3a"
             ],
             [
              0.8888888888888888,
              "#fdca26"
             ],
             [
              1,
              "#f0f921"
             ]
            ],
            "type": "surface"
           }
          ],
          "table": [
           {
            "cells": {
             "fill": {
              "color": "#EBF0F8"
             },
             "line": {
              "color": "white"
             }
            },
            "header": {
             "fill": {
              "color": "#C8D4E3"
             },
             "line": {
              "color": "white"
             }
            },
            "type": "table"
           }
          ]
         },
         "layout": {
          "annotationdefaults": {
           "arrowcolor": "#2a3f5f",
           "arrowhead": 0,
           "arrowwidth": 1
          },
          "autotypenumbers": "strict",
          "coloraxis": {
           "colorbar": {
            "outlinewidth": 0,
            "ticks": ""
           }
          },
          "colorscale": {
           "diverging": [
            [
             0,
             "#8e0152"
            ],
            [
             0.1,
             "#c51b7d"
            ],
            [
             0.2,
             "#de77ae"
            ],
            [
             0.3,
             "#f1b6da"
            ],
            [
             0.4,
             "#fde0ef"
            ],
            [
             0.5,
             "#f7f7f7"
            ],
            [
             0.6,
             "#e6f5d0"
            ],
            [
             0.7,
             "#b8e186"
            ],
            [
             0.8,
             "#7fbc41"
            ],
            [
             0.9,
             "#4d9221"
            ],
            [
             1,
             "#276419"
            ]
           ],
           "sequential": [
            [
             0,
             "#0d0887"
            ],
            [
             0.1111111111111111,
             "#46039f"
            ],
            [
             0.2222222222222222,
             "#7201a8"
            ],
            [
             0.3333333333333333,
             "#9c179e"
            ],
            [
             0.4444444444444444,
             "#bd3786"
            ],
            [
             0.5555555555555556,
             "#d8576b"
            ],
            [
             0.6666666666666666,
             "#ed7953"
            ],
            [
             0.7777777777777778,
             "#fb9f3a"
            ],
            [
             0.8888888888888888,
             "#fdca26"
            ],
            [
             1,
             "#f0f921"
            ]
           ],
           "sequentialminus": [
            [
             0,
             "#0d0887"
            ],
            [
             0.1111111111111111,
             "#46039f"
            ],
            [
             0.2222222222222222,
             "#7201a8"
            ],
            [
             0.3333333333333333,
             "#9c179e"
            ],
            [
             0.4444444444444444,
             "#bd3786"
            ],
            [
             0.5555555555555556,
             "#d8576b"
            ],
            [
             0.6666666666666666,
             "#ed7953"
            ],
            [
             0.7777777777777778,
             "#fb9f3a"
            ],
            [
             0.8888888888888888,
             "#fdca26"
            ],
            [
             1,
             "#f0f921"
            ]
           ]
          },
          "colorway": [
           "#636efa",
           "#EF553B",
           "#00cc96",
           "#ab63fa",
           "#FFA15A",
           "#19d3f3",
           "#FF6692",
           "#B6E880",
           "#FF97FF",
           "#FECB52"
          ],
          "font": {
           "color": "#2a3f5f"
          },
          "geo": {
           "bgcolor": "white",
           "lakecolor": "white",
           "landcolor": "#E5ECF6",
           "showlakes": true,
           "showland": true,
           "subunitcolor": "white"
          },
          "hoverlabel": {
           "align": "left"
          },
          "hovermode": "closest",
          "mapbox": {
           "style": "light"
          },
          "paper_bgcolor": "white",
          "plot_bgcolor": "#E5ECF6",
          "polar": {
           "angularaxis": {
            "gridcolor": "white",
            "linecolor": "white",
            "ticks": ""
           },
           "bgcolor": "#E5ECF6",
           "radialaxis": {
            "gridcolor": "white",
            "linecolor": "white",
            "ticks": ""
           }
          },
          "scene": {
           "xaxis": {
            "backgroundcolor": "#E5ECF6",
            "gridcolor": "white",
            "gridwidth": 2,
            "linecolor": "white",
            "showbackground": true,
            "ticks": "",
            "zerolinecolor": "white"
           },
           "yaxis": {
            "backgroundcolor": "#E5ECF6",
            "gridcolor": "white",
            "gridwidth": 2,
            "linecolor": "white",
            "showbackground": true,
            "ticks": "",
            "zerolinecolor": "white"
           },
           "zaxis": {
            "backgroundcolor": "#E5ECF6",
            "gridcolor": "white",
            "gridwidth": 2,
            "linecolor": "white",
            "showbackground": true,
            "ticks": "",
            "zerolinecolor": "white"
           }
          },
          "shapedefaults": {
           "line": {
            "color": "#2a3f5f"
           }
          },
          "ternary": {
           "aaxis": {
            "gridcolor": "white",
            "linecolor": "white",
            "ticks": ""
           },
           "baxis": {
            "gridcolor": "white",
            "linecolor": "white",
            "ticks": ""
           },
           "bgcolor": "#E5ECF6",
           "caxis": {
            "gridcolor": "white",
            "linecolor": "white",
            "ticks": ""
           }
          },
          "title": {
           "x": 0.05
          },
          "xaxis": {
           "automargin": true,
           "gridcolor": "white",
           "linecolor": "white",
           "ticks": "",
           "title": {
            "standoff": 15
           },
           "zerolinecolor": "white",
           "zerolinewidth": 2
          },
          "yaxis": {
           "automargin": true,
           "gridcolor": "white",
           "linecolor": "white",
           "ticks": "",
           "title": {
            "standoff": 15
           },
           "zerolinecolor": "white",
           "zerolinewidth": 2
          }
         }
        },
        "title": {
         "text": "V vs Current"
        },
        "xaxis": {
         "anchor": "y",
         "domain": [
          0,
          1
         ],
         "title": {
          "text": "Current (A)"
         }
        },
        "yaxis": {
         "anchor": "x",
         "domain": [
          0,
          1
         ],
         "title": {
          "text": "V"
         }
        }
       }
      }
     },
     "metadata": {},
     "output_type": "display_data"
    }
   ],
   "source": [
    "plotTrace(start_current = start_current, step_size=step_size)"
   ]
  },
  {
   "cell_type": "code",
   "execution_count": 18,
   "metadata": {},
   "outputs": [
    {
     "data": {
      "text/plain": [
       "<AxesSubplot:>"
      ]
     },
     "execution_count": 18,
     "metadata": {},
     "output_type": "execute_result"
    },
    {
     "data": {
      "image/png": "[encoded data removed]",
      "text/plain": [
       "<Figure size 432x288 with 1 Axes>"
      ]
     },
     "metadata": {
      "needs_background": "light"
     },
     "output_type": "display_data"
    }
   ],
   "source": [
    "import pandas as pd\n",
    "df= pd.read_csv(\"6221NoiseAnalysis.csv\")\n",
    "df['0'].plot()"
   ]
  },
  {
   "cell_type": "code",
   "execution_count": 12,
   "metadata": {},
   "outputs": [],
   "source": [
    "dev.AbortSWE()\n"
   ]
  },
  {
   "cell_type": "code",
   "execution_count": 17,
   "metadata": {},
   "outputs": [],
   "source": [
    "dev.WriteCommand(\"DISPlay:ENABle ON\")"
   ]
  },
  {
   "cell_type": "code",
   "execution_count": 10,
   "metadata": {},
   "outputs": [
    {
     "name": "stdout",
     "output_type": "stream",
     "text": [
      "Trace actual size 21\n",
      "Trace buffer free size 2096480,672\n",
      "Trace length: 42\n",
      "Trace numbers:  [533.893005, 0.0, 541.280273, 0.023, 551.302917, 0.046, 537.161011, 0.068, 530.252136, 0.091, 528.798462, 0.113, 528.601807, 0.136, 545.922607, 0.159, 552.550171, 0.182, 535.841125, 0.204, 533.135193, 0.227, 543.166077, 0.25, 539.940247, 0.273, 546.415283, 0.296, 552.334106, 0.318, 535.94165, 0.341, 533.538757, 0.364, 543.909851, 0.387, 540.34314, 0.409, 546.151062, 0.432, 550.578064, 0.455]\n",
      "Trace data type: DCON\n"
     ]
    },
    {
     "data": {
      "image/png": "[encoded data removed]",
      "text/plain": [
       "<Figure size 432x288 with 1 Axes>"
      ]
     },
     "metadata": {
      "needs_background": "light"
     },
     "output_type": "display_data"
    }
   ],
   "source": [
    "plotTrace()"
   ]
  },
  {
   "cell_type": "code",
   "execution_count": 22,
   "metadata": {},
   "outputs": [
    {
     "name": "stdout",
     "output_type": "stream",
     "text": [
      "Trace actual size 1\n"
     ]
    }
   ],
   "source": [
    "count = dev.get_trace_actual_data_points()\n",
    "print(\"Trace actual size\", count)"
   ]
  },
  {
   "cell_type": "code",
   "execution_count": 32,
   "metadata": {},
   "outputs": [
    {
     "data": {
      "text/plain": [
       "'0.00000'"
      ]
     },
     "execution_count": 32,
     "metadata": {},
     "output_type": "execute_result"
    }
   ],
   "source": [
    "dev.WriteCommand(\"SOUR:DCON:DELTa 1e-6\")\n",
    "dev.QueryCommand(\"SOUR:DCON:DELTa?\")"
   ]
  },
  {
   "cell_type": "code",
   "execution_count": 33,
   "metadata": {},
   "outputs": [
    {
     "data": {
      "text/plain": [
       "'1.000000E-04'"
      ]
     },
     "execution_count": 33,
     "metadata": {},
     "output_type": "execute_result"
    }
   ],
   "source": [
    "dev.QueryCommand(f\"SOUR:DCON:STOP?\")\n"
   ]
  },
  {
   "cell_type": "code",
   "execution_count": 6,
   "metadata": {},
   "outputs": [],
   "source": [
    "dev.RunLinSweep(st=10e-6, en=100e-6, step=0.1e-6)"
   ]
  },
  {
   "cell_type": "code",
   "execution_count": 24,
   "metadata": {},
   "outputs": [],
   "source": [
    "a=\"\"\"*RST ‘ Restores 622x defaults.\n",
    "SOUR:DCON:STARt 0 ‘ Sets start value to 0µA.\n",
    "SOUR:DCON:STEP 10e-6 ‘ Sets step size to 10µA.\n",
    "SOUR:DCON:STOP 50e-6 ‘ Sets stop value to 50µA.\n",
    "SOUR:DCON:DELTa 20e-6 ‘ Sets delta value to 20µA.\n",
    "SOUR:DCON:DELay 1e-3 ‘ Sets delay to 1ms.\n",
    "SOUR:DCON:CAB ON ‘ Enables Compliance Abort.\n",
    "TRAC:POIN 6 ‘ Sets buffer size to six points. A\n",
    "SOUR:DCON:ARM ‘ Arms Differential Conductance.\n",
    "INIT:IMM \"\"\""
   ]
  },
  {
   "cell_type": "code",
   "execution_count": 43,
   "metadata": {},
   "outputs": [],
   "source": [
    "dev.WriteCommand(\"*RST\")\n",
    "dev.WriteCommand(\"SOUR:DCON:STARt 0 \")\n",
    "dev.WriteCommand(\"SOUR:DCON:STEP 10e-6\")\n",
    "dev.WriteCommand(\"SOUR:DCON:STOP 50e-6\")\n",
    "dev.WriteCommand(\"SOUR:DCON:DELTa 20e-6 \")\n",
    "dev.WriteCommand(\"SOUR:DCON:DELay 1e-3\")\n",
    "dev.WriteCommand(\"SOUR:DCON:CAB OFF\")\n",
    "dev.WriteCommand(\"TRAC:POIN 6\")\n",
    "dev.WriteCommand(\"SOUR:DCON:ARM\")\n",
    "dev.WriteCommand(\"INIT:IMM\")"
   ]
  },
  {
   "cell_type": "code",
   "execution_count": 22,
   "metadata": {},
   "outputs": [
    {
     "data": {
      "text/plain": [
       "'*RST ‘ Restores 622x defaults.SOUR:DCON:STARt 0 ‘ Sets start value to 0µA.SOUR:DCON:STEP 10e-6 ‘ Sets step size to 10µA.SOUR:DCON:STOP 50e-6 ‘ Sets stop value to 50µA.SOUR:DCON:DELTa 20e-6 ‘ Sets delta value to 20µA.SOUR:DCON:DELay 1e-3 ‘ Sets delay to 1ms.SOUR:DCON:CAB ON ‘ Enables Compliance Abort.TRAC:POIN 6 ‘ Sets buffer size to six points. ASOUR:DCON:ARM ‘ Arms Differential Conductance.INIT:IMM '"
      ]
     },
     "execution_count": 22,
     "metadata": {},
     "output_type": "execute_result"
    }
   ],
   "source": [
    "a"
   ]
  },
  {
   "cell_type": "code",
   "execution_count": null,
   "metadata": {},
   "outputs": [],
   "source": []
  }
 ],
 "metadata": {
  "interpreter": {
   "hash": "d5ace9fa8a4772c7045cb25a70f2b01b809d20a88cc22597a4b389cfa894c1f5"
  },
  "kernelspec": {
   "display_name": "Python 3.7.6 ('ppms')",
   "language": "python",
   "name": "python3"
  },
  "language_info": {
   "codemirror_mode": {
    "name": "ipython",
    "version": 3
   },
   "file_extension": ".py",
   "mimetype": "text/x-python",
   "name": "python",
   "nbconvert_exporter": "python",
   "pygments_lexer": "ipython3",
   "version": "3.7.6"
  },
  "orig_nbformat": 4
 },
 "nbformat": 4,
 "nbformat_minor": 2
}
