{
 "cells": [
  {
   "cell_type": "code",
   "execution_count": null,
   "metadata": {},
   "outputs": [],
   "source": [
    "import pyvisa\n",
    "from functions import *\n",
    "rm = pyvisa.ResourceManager()\n",
    "k6221=rm.open_resource(\"TCPIP::10.0.4.138::1394::SOCKET\")\n",
    "k6221.read_termination = '\\n'\n",
    "k6221.write_termination = '\\n'"
   ]
  }
 ],
 "metadata": {
  "language_info": {
   "name": "python"
  },
  "orig_nbformat": 4
 },
 "nbformat": 4,
 "nbformat_minor": 2
}
