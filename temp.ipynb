{
 "cells": [
  {
   "cell_type": "code",
   "execution_count": 56,
   "metadata": {},
   "outputs": [],
   "source": [
    "from k6221 import *"
   ]
  },
  {
   "cell_type": "code",
   "execution_count": 60,
   "metadata": {},
   "outputs": [],
   "source": [
    "rm = pyvisa.ResourceManager()\n",
    "x = None"
   ]
  },
  {
   "cell_type": "code",
   "execution_count": 61,
   "metadata": {},
   "outputs": [],
   "source": [
    "address = \"TCPIP::10.0.4.138::1394::SOCKET\"\n",
    "dev = Keithley6221(address=address, rm=rm)"
   ]
  },
  {
   "cell_type": "code",
   "execution_count": 62,
   "metadata": {},
   "outputs": [
    {
     "name": "stdout",
     "output_type": "stream",
     "text": [
      "KEITHLEY INSTRUMENTS INC.,MODEL 6221,4018989,D02  /700x \n"
     ]
    }
   ],
   "source": [
    "print(dev.get_idn())"
   ]
  },
  {
   "cell_type": "code",
   "execution_count": 63,
   "metadata": {},
   "outputs": [
    {
     "data": {
      "text/plain": [
       "<UNITS.Ohms: 'OHMS'>"
      ]
     },
     "execution_count": 63,
     "metadata": {},
     "output_type": "execute_result"
    }
   ],
   "source": [
    "dev.get_units()"
   ]
  },
  {
   "cell_type": "code",
   "execution_count": 49,
   "metadata": {},
   "outputs": [],
   "source": [
    "dev.Abort()"
   ]
  },
  {
   "cell_type": "code",
   "execution_count": 67,
   "metadata": {},
   "outputs": [
    {
     "name": "stderr",
     "output_type": "stream",
     "text": [
      "WARNING:k6221:Cannot establish a connection between 6221 and 2182A via nul-modem cable\n"
     ]
    }
   ],
   "source": [
    "dev.RunDeltaMeasurements(\n",
    "            units=dev.UNITS.Ohms,\n",
    "            current=1e-6,\n",
    "            delay=10e-3,\n",
    "            count=4,\n",
    "            swe_count=1,\n",
    "    )"
   ]
  },
  {
   "cell_type": "code",
   "execution_count": 69,
   "metadata": {},
   "outputs": [
    {
     "ename": "AttributeError",
     "evalue": "'Keithley6221' object has no attribute 'WriteCommand'",
     "output_type": "error",
     "traceback": [
      "\u001b[0;31m---------------------------------------------------------------------------\u001b[0m",
      "\u001b[0;31mAttributeError\u001b[0m                            Traceback (most recent call last)",
      "\u001b[0;32m/tmp/ipykernel_3739/170593028.py\u001b[0m in \u001b[0;36m<module>\u001b[0;34m\u001b[0m\n\u001b[0;32m----> 1\u001b[0;31m \u001b[0mdev\u001b[0m\u001b[0;34m.\u001b[0m\u001b[0mWriteCommand\u001b[0m\u001b[0;34m(\u001b[0m\u001b[0;34m\"SOUR:SWE:ABOR\"\u001b[0m\u001b[0;34m)\u001b[0m\u001b[0;34m\u001b[0m\u001b[0;34m\u001b[0m\u001b[0m\n\u001b[0m",
      "\u001b[0;31mAttributeError\u001b[0m: 'Keithley6221' object has no attribute 'WriteCommand'"
     ]
    }
   ],
   "source": [
    "dev.WriteCommand(\"SOUR:SWE:ABOR\")"
   ]
  },
  {
   "cell_type": "code",
   "execution_count": 42,
   "metadata": {},
   "outputs": [
    {
     "data": {
      "text/plain": [
       "<UNITS.Ohms: 'OHMS'>"
      ]
     },
     "execution_count": 42,
     "metadata": {},
     "output_type": "execute_result"
    }
   ],
   "source": [
    "dev.UNITS.Ohms"
   ]
  },
  {
   "cell_type": "code",
   "execution_count": 65,
   "metadata": {},
   "outputs": [
    {
     "name": "stdout",
     "output_type": "stream",
     "text": [
      "Trace actual size 2\n",
      "Trace buffer free size 2097056,96\n"
     ]
    }
   ],
   "source": [
    "print(\"Trace actual size\", count)\n",
    "print(\"Trace buffer free size\", dev.get_trace_free_memory())\n",
    "numbers = dev.get_trace_data()"
   ]
  },
  {
   "cell_type": "code",
   "execution_count": 66,
   "metadata": {},
   "outputs": [
    {
     "name": "stdout",
     "output_type": "stream",
     "text": [
      "Trace actual size 3\n",
      "Trace buffer free size 2097056,96\n",
      "Trace length: 6\n",
      "Trace numbers:  [30.6933041, 0.0, 0.0, 0.031, 1.08505452, 0.062]\n",
      "Trace data type: DELT\n"
     ]
    }
   ],
   "source": [
    "count = dev.get_trace_actual_data_points()\n",
    "print(\"Trace actual size\", count)\n",
    "print(\"Trace buffer free size\", dev.get_trace_free_memory())\n",
    "numbers = dev.get_trace_data()\n",
    "print(f\"Trace length: {len(numbers)}\")\n",
    "print(f\"Trace numbers: \", numbers)\n",
    "points = [numbers[2 * i] for i in range(count)]\n",
    "# currents = [start_current + i * step_size for i in range(points.__len__())]\n",
    "time_stamps = [numbers[2 * i + 1] for i in range(count)]\n",
    "print(f\"Trace data type: {dev.get_trace_data_type()}\")\n",
    "# plt.plot(currents, points, \"o\")\n",
    "# plt.show()"
   ]
  },
  {
   "cell_type": "code",
   "execution_count": 54,
   "metadata": {},
   "outputs": [
    {
     "data": {
      "text/plain": [
       "[30.6635151, 0.0]"
      ]
     },
     "execution_count": 54,
     "metadata": {},
     "output_type": "execute_result"
    }
   ],
   "source": [
    "points"
   ]
  },
  {
   "cell_type": "code",
   "execution_count": null,
   "metadata": {},
   "outputs": [],
   "source": []
  },
  {
   "cell_type": "code",
   "execution_count": 59,
   "metadata": {},
   "outputs": [],
   "source": [
    "rm.close()"
   ]
  },
  {
   "cell_type": "code",
   "execution_count": null,
   "metadata": {},
   "outputs": [],
   "source": []
  }
 ],
 "metadata": {
  "interpreter": {
   "hash": "d5ace9fa8a4772c7045cb25a70f2b01b809d20a88cc22597a4b389cfa894c1f5"
  },
  "kernelspec": {
   "display_name": "Python 3.7.6 ('ppms')",
   "language": "python",
   "name": "python3"
  },
  "language_info": {
   "codemirror_mode": {
    "name": "ipython",
    "version": 3
   },
   "file_extension": ".py",
   "mimetype": "text/x-python",
   "name": "python",
   "nbconvert_exporter": "python",
   "pygments_lexer": "ipython3",
   "version": "3.7.6"
  },
  "orig_nbformat": 4
 },
 "nbformat": 4,
 "nbformat_minor": 2
}
