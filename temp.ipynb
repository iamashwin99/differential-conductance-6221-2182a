{
 "cells": [
  {
   "cell_type": "code",
   "execution_count": 1,
   "metadata": {},
   "outputs": [],
   "source": [
    "from k6221 import *"
   ]
  },
  {
   "cell_type": "code",
   "execution_count": 2,
   "metadata": {},
   "outputs": [],
   "source": [
    "rm = pyvisa.ResourceManager()\n",
    "x = None"
   ]
  },
  {
   "cell_type": "code",
   "execution_count": 3,
   "metadata": {},
   "outputs": [],
   "source": [
    "address = \"TCPIP::10.0.4.138::1394::SOCKET\"\n",
    "dev = Keithley6221(address=address, rm=rm)"
   ]
  },
  {
   "cell_type": "code",
   "execution_count": 4,
   "metadata": {},
   "outputs": [
    {
     "name": "stdout",
     "output_type": "stream",
     "text": [
      "KEITHLEY INSTRUMENTS INC.,MODEL 6221,4018989,D02  /700x \n"
     ]
    }
   ],
   "source": [
    "print(dev.get_idn())"
   ]
  },
  {
   "cell_type": "code",
   "execution_count": 11,
   "metadata": {},
   "outputs": [
    {
     "data": {
      "text/plain": [
       "<UNITS.Volts: 'V'>"
      ]
     },
     "execution_count": 11,
     "metadata": {},
     "output_type": "execute_result"
    }
   ],
   "source": [
    "dev.get_units()"
   ]
  },
  {
   "cell_type": "code",
   "execution_count": 19,
   "metadata": {},
   "outputs": [],
   "source": [
    "dev.RunDeltaMeasurements(\n",
    "            units=dev.UNITS.Ohms,\n",
    "            current=1e-6,\n",
    "            delay=10e-3,\n",
    "            count=\"INF\",\n",
    "            swe_count=1,\n",
    "    )"
   ]
  },
  {
   "cell_type": "code",
   "execution_count": 16,
   "metadata": {},
   "outputs": [],
   "source": [
    "dev.WriteCommand(\"SOUR:SWE:ABOR\")\n"
   ]
  },
  {
   "cell_type": "code",
   "execution_count": 42,
   "metadata": {},
   "outputs": [
    {
     "data": {
      "text/plain": [
       "<UNITS.Ohms: 'OHMS'>"
      ]
     },
     "execution_count": 42,
     "metadata": {},
     "output_type": "execute_result"
    }
   ],
   "source": [
    "dev.UNITS.Ohms"
   ]
  },
  {
   "cell_type": "code",
   "execution_count": 20,
   "metadata": {},
   "outputs": [
    {
     "name": "stdout",
     "output_type": "stream",
     "text": [
      "Trace actual size 65\n",
      "Trace buffer free size 2095072,2080\n",
      "Trace length: 130\n",
      "Trace numbers:  [5.27392435, 0.0, 5.26078272, 0.031, 5.381814, 0.062, 5.324615, 0.093, 5.23061895, 0.123, 5.22010517, 0.154, 5.29357481, 0.185, 5.37467909, 0.216, 5.38544321, 0.248, 5.38569355, 0.278, 5.37956047, 0.31, 5.38181353, 0.34, 5.3766818, 0.372, 5.36679411, 0.402, 5.36679411, 0.434, 5.38156319, 0.464, 5.38531828, 0.496, 5.37818384, 0.526, 5.3860693, 0.558, 5.38256454, 0.588, 5.29908228, 0.619, 5.2123456, 0.65, 5.19982958, 0.681, 5.28731728, 0.712, 5.38231516, 0.743, 5.31147385, 0.773, 5.22749043, 0.804, 5.21810341, 0.835, 5.29282427, 0.866, 5.37693262, 0.897, 5.29945803, 0.927, 5.2204814, 0.958, 5.22698975, 0.989, 5.31197453, 1.02, 5.398211, 1.051, 5.3181076, 1.082, 5.22636414, 1.112, 5.20371008, 1.143, 5.28556538, 1.174, 5.36767054, 1.205, 5.28143501, 1.236, 5.20721436, 1.266, 5.21910477, 1.297, 5.29345036, 1.328, 5.37292814, 1.359, 5.30008411, 1.39, 5.21046829, 1.421, 5.2049613, 1.451, 5.28919458, 1.483, 5.37655687, 1.513, 5.30158567, 1.544, 5.20946693, 1.575, 5.20195723, 1.606, 5.30333805, 1.637, 5.39821053, 1.668, 5.30696774, 1.698, 5.21559954, 1.729, 5.21096897, 1.76, 5.29695415, 1.791, 5.38581848, 1.822, 5.3115983, 1.852, 5.24438667, 1.883, 5.24789143, 1.914, 5.31748104, 1.945, 5.40321684, 1.976]\n",
      "Trace data type: DELT\n"
     ]
    },
    {
     "data": {
      "image/png": "[encoded data removed]",
      "text/plain": [
       "<Figure size 432x288 with 1 Axes>"
      ]
     },
     "metadata": {
      "needs_background": "light"
     },
     "output_type": "display_data"
    }
   ],
   "source": [
    "count = dev.get_trace_actual_data_points()\n",
    "print(\"Trace actual size\", count)\n",
    "print(\"Trace buffer free size\", dev.get_trace_free_memory())\n",
    "numbers = dev.get_trace_data()\n",
    "print(f\"Trace length: {len(numbers)}\")\n",
    "print(f\"Trace numbers: \", numbers)\n",
    "points = [numbers[2 * i] for i in range(count)]\n",
    "# currents = [start_current + i * step_size for i in range(points.__len__())]\n",
    "time_stamps = [numbers[2 * i + 1] for i in range(count)]\n",
    "print(f\"Trace data type: {dev.get_trace_data_type()}\")\n",
    "plt.plot(points, \"o\")\n",
    "plt.show()"
   ]
  },
  {
   "cell_type": "code",
   "execution_count": 19,
   "metadata": {},
   "outputs": [
    {
     "data": {
      "text/plain": [
       "[30.5870953, 2.12869692, 2.11342716, 2.12531757]"
      ]
     },
     "execution_count": 19,
     "metadata": {},
     "output_type": "execute_result"
    }
   ],
   "source": [
    "points"
   ]
  },
  {
   "cell_type": "code",
   "execution_count": null,
   "metadata": {},
   "outputs": [],
   "source": []
  },
  {
   "cell_type": "code",
   "execution_count": 14,
   "metadata": {},
   "outputs": [],
   "source": [
    "rm.close()"
   ]
  },
  {
   "cell_type": "code",
   "execution_count": 41,
   "metadata": {},
   "outputs": [],
   "source": [
    "dev.WriteCommand(\"SOUR:DCON:CABort OFF\")"
   ]
  },
  {
   "cell_type": "code",
   "execution_count": 43,
   "metadata": {},
   "outputs": [
    {
     "name": "stdout",
     "output_type": "stream",
     "text": [
      "And START_CURRENT =  -1.000000E-04\n",
      "And STOP_CURRENT =  1.000000E-04\n",
      "And STEP =  1.000000E-07\n",
      "And DELTA =  0.00001\n",
      "dIdV program is fully initialized!\n"
     ]
    }
   ],
   "source": [
    "start_current = -100e-6\n",
    "stop_current=100e-6\n",
    "step_size=0.1e-6\n",
    "delay=0.002\n",
    "delta=10e-6\n",
    "buffer_points: int = 60000\n",
    "##############################################################################################\n",
    "estimated_time = ((stop_current - start_current) / step_size + 1) * (delay + 0.125) + 10\n",
    "dev.RunDifferentialConductanceMeasurements(\n",
    "    start_current=start_current,\n",
    "    stop_current=stop_current,\n",
    "    step_size=step_size,\n",
    "    delay=delay,\n",
    "    delta=delta,\n",
    "    buffer_points=buffer_points,\n",
    ")\n",
    "# sleep_interval = 4.7\n",
    "# time.sleep(sleep_interval + 0)\n",
    "# time_started = datetime.now()\n",
    "# count = dev.get_trace_actual_data_points()\n",
    "# print(\"Trace actual size\", count)\n",
    "# print(\"Trace buffer free size\", dev.get_trace_free_memory())\n",
    "# numbers = dev.get_trace_data()\n",
    "# print(f\"Trace length: {len(numbers)}\")\n",
    "# print(f\"Trace numbers: \", numbers)\n",
    "# points = [numbers[2 * i] for i in range(count)]\n",
    "# currents = [start_current + i * step_size for i in range(points.__len__())]\n",
    "# time_stamps = [numbers[2 * i + 1] for i in range(count)]\n",
    "# print(f\"Trace data type: {dev.get_trace_data_type()}\")\n",
    "# plt.plot(currents, points, \"o\")\n",
    "# plt.show()"
   ]
  },
  {
   "cell_type": "code",
   "execution_count": null,
   "metadata": {},
   "outputs": [],
   "source": []
  },
  {
   "cell_type": "code",
   "execution_count": 44,
   "metadata": {},
   "outputs": [
    {
     "name": "stdout",
     "output_type": "stream",
     "text": [
      "Trace actual size 1\n",
      "Trace buffer free size 2097120,32\n",
      "Trace length: 2\n",
      "Trace numbers:  [5.28741148e-05, 0.0]\n",
      "Trace data type: DCON\n"
     ]
    },
    {
     "data": {
      "image/png": "[encoded data removed]",
      "text/plain": [
       "<Figure size 432x288 with 1 Axes>"
      ]
     },
     "metadata": {
      "needs_background": "light"
     },
     "output_type": "display_data"
    }
   ],
   "source": [
    "count = dev.get_trace_actual_data_points()\n",
    "print(\"Trace actual size\", count)\n",
    "print(\"Trace buffer free size\", dev.get_trace_free_memory())\n",
    "numbers = dev.get_trace_data()\n",
    "print(f\"Trace length: {len(numbers)}\")\n",
    "print(f\"Trace numbers: \", numbers)\n",
    "points = [numbers[2 * i] for i in range(count)]\n",
    "currents = [start_current + i * step_size for i in range(points.__len__())]\n",
    "time_stamps = [numbers[2 * i + 1] for i in range(count)]\n",
    "print(f\"Trace data type: {dev.get_trace_data_type()}\")\n",
    "plt.plot(currents, points, \"o\")\n",
    "plt.show()"
   ]
  },
  {
   "cell_type": "code",
   "execution_count": 22,
   "metadata": {},
   "outputs": [
    {
     "name": "stdout",
     "output_type": "stream",
     "text": [
      "Trace actual size 1\n"
     ]
    }
   ],
   "source": [
    "count = dev.get_trace_actual_data_points()\n",
    "print(\"Trace actual size\", count)"
   ]
  },
  {
   "cell_type": "code",
   "execution_count": 23,
   "metadata": {},
   "outputs": [
    {
     "data": {
      "text/plain": [
       "[-1e-05]"
      ]
     },
     "execution_count": 23,
     "metadata": {},
     "output_type": "execute_result"
    }
   ],
   "source": [
    "currents"
   ]
  },
  {
   "cell_type": "code",
   "execution_count": 32,
   "metadata": {},
   "outputs": [
    {
     "data": {
      "text/plain": [
       "'0.00000'"
      ]
     },
     "execution_count": 32,
     "metadata": {},
     "output_type": "execute_result"
    }
   ],
   "source": [
    "dev.WriteCommand(\"SOUR:DCON:DELTa 1e-6\")\n",
    "dev.QueryCommand(\"SOUR:DCON:DELTa?\")"
   ]
  },
  {
   "cell_type": "code",
   "execution_count": 33,
   "metadata": {},
   "outputs": [
    {
     "data": {
      "text/plain": [
       "'1.000000E-04'"
      ]
     },
     "execution_count": 33,
     "metadata": {},
     "output_type": "execute_result"
    }
   ],
   "source": [
    "dev.QueryCommand(f\"SOUR:DCON:STOP?\")\n"
   ]
  },
  {
   "cell_type": "code",
   "execution_count": 37,
   "metadata": {},
   "outputs": [],
   "source": [
    "dev.RunLinSweep(st=10e-6, en=100e-6, step=0.1e-6)"
   ]
  },
  {
   "cell_type": "code",
   "execution_count": null,
   "metadata": {},
   "outputs": [],
   "source": []
  }
 ],
 "metadata": {
  "interpreter": {
   "hash": "d5ace9fa8a4772c7045cb25a70f2b01b809d20a88cc22597a4b389cfa894c1f5"
  },
  "kernelspec": {
   "display_name": "Python 3.7.6 ('ppms')",
   "language": "python",
   "name": "python3"
  },
  "language_info": {
   "codemirror_mode": {
    "name": "ipython",
    "version": 3
   },
   "file_extension": ".py",
   "mimetype": "text/x-python",
   "name": "python",
   "nbconvert_exporter": "python",
   "pygments_lexer": "ipython3",
   "version": "3.7.6"
  },
  "orig_nbformat": 4
 },
 "nbformat": 4,
 "nbformat_minor": 2
}
