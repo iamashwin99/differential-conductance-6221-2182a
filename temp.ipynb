{
 "cells": [
  {
   "cell_type": "code",
   "execution_count": 1,
   "metadata": {},
   "outputs": [],
   "source": [
    "from k6221 import *"
   ]
  },
  {
   "cell_type": "code",
   "execution_count": 2,
   "metadata": {},
   "outputs": [],
   "source": [
    "rm = pyvisa.ResourceManager()\n",
    "x = None"
   ]
  },
  {
   "cell_type": "code",
   "execution_count": 3,
   "metadata": {},
   "outputs": [],
   "source": [
    "address = \"TCPIP::10.0.4.138::1394::SOCKET\"\n",
    "dev = Keithley6221(address=address, rm=rm)"
   ]
  },
  {
   "cell_type": "code",
   "execution_count": 4,
   "metadata": {},
   "outputs": [
    {
     "name": "stdout",
     "output_type": "stream",
     "text": [
      "KEITHLEY INSTRUMENTS INC.,MODEL 6221,4018989,D02  /700x \n"
     ]
    }
   ],
   "source": [
    "print(dev.get_idn())"
   ]
  },
  {
   "cell_type": "code",
   "execution_count": 5,
   "metadata": {},
   "outputs": [],
   "source": [
    "def plotTrace():\n",
    "    count = dev.get_trace_actual_data_points()\n",
    "    print(\"Trace actual size\", count)\n",
    "    print(\"Trace buffer free size\", dev.get_trace_free_memory())\n",
    "    numbers = dev.get_trace_data()\n",
    "    print(f\"Trace length: {len(numbers)}\")\n",
    "    if(len(numbers) <100):\n",
    "        print(f\"Trace numbers: \", numbers)\n",
    "    points = [numbers[2 * i] for i in range(count)]\n",
    "    currents = [start_current + i * step_size for i in range(points.__len__())]\n",
    "    time_stamps = [numbers[2 * i + 1] for i in range(count)]\n",
    "    print(f\"Trace data type: {dev.get_trace_data_type()}\")\n",
    "    plt.plot(points, \"o\")\n",
    "    return plt.show()\n",
    "        "
   ]
  },
  {
   "cell_type": "code",
   "execution_count": 6,
   "metadata": {},
   "outputs": [
    {
     "data": {
      "text/plain": [
       "<UNITS.Volts: 'V'>"
      ]
     },
     "execution_count": 6,
     "metadata": {},
     "output_type": "execute_result"
    }
   ],
   "source": [
    "dev.get_units()"
   ]
  },
  {
   "cell_type": "code",
   "execution_count": 13,
   "metadata": {},
   "outputs": [],
   "source": [
    "dev.RunDeltaMeasurements(\n",
    "            units=dev.UNITS.Ohms,\n",
    "            current=1e-6,\n",
    "            delay=10e-3,\n",
    "            count=\"INF\",\n",
    "            swe_count=1,\n",
    "    )"
   ]
  },
  {
   "cell_type": "code",
   "execution_count": 36,
   "metadata": {},
   "outputs": [],
   "source": [
    "dev.WriteCommand(\"SOUR:SWE:ABOR\")\n"
   ]
  },
  {
   "cell_type": "code",
   "execution_count": 29,
   "metadata": {},
   "outputs": [],
   "source": [
    "rm.close()"
   ]
  },
  {
   "cell_type": "code",
   "execution_count": 41,
   "metadata": {},
   "outputs": [],
   "source": [
    "dev.WriteCommand(\"SOUR:DCON:CABort OFF\")"
   ]
  },
  {
   "cell_type": "code",
   "execution_count": 7,
   "metadata": {},
   "outputs": [
    {
     "name": "stdout",
     "output_type": "stream",
     "text": [
      "And START_CURRENT =  0.000000E+00\n",
      "And STOP_CURRENT =  5.000000E-05\n",
      "And STEP =  1.000000E-05\n",
      "And DELTA =  0.00002\n",
      "And DELAY =  0.00200\n",
      "And CAB =  0\n",
      "dIdV program is fully initialized!\n"
     ]
    }
   ],
   "source": [
    "start_current = 0\n",
    "stop_current=50e-6\n",
    "step_size=10e-6\n",
    "delay=2e-3\n",
    "delta=20e-6\n",
    "buffer_points = int((stop_current - start_current) / step_size + 1)\n",
    "estimated_time = buffer_points * (delay) + 10\n",
    "\n",
    "\n",
    "dev.RunDifferentialConductanceMeasurements(\n",
    "    units=dev.UNITS.Ohms,\n",
    "    start_current=start_current,\n",
    "    stop_current=stop_current,\n",
    "    step_size=step_size,\n",
    "    delay=delay,\n",
    "    delta=delta,\n",
    "    buffer_points=buffer_points,\n",
    "    \n",
    ")\n",
    "\n",
    "\n"
   ]
  },
  {
   "cell_type": "code",
   "execution_count": 9,
   "metadata": {},
   "outputs": [],
   "source": [
    "dev.AbortSWE()\n"
   ]
  },
  {
   "cell_type": "code",
   "execution_count": 8,
   "metadata": {},
   "outputs": [
    {
     "name": "stdout",
     "output_type": "stream",
     "text": [
      "Trace actual size 6\n",
      "Trace buffer free size 2096960,192\n",
      "Trace length: 12\n",
      "Trace numbers:  [533.818848, 0.0, 540.391907, 0.023, 550.223633, 0.046, 536.874573, 0.068, 530.357849, 0.091, 532.973755, 0.113]\n",
      "Trace data type: DCON\n"
     ]
    },
    {
     "data": {
      "image/png": "[encoded data removed]",
      "text/plain": [
       "<Figure size 432x288 with 1 Axes>"
      ]
     },
     "metadata": {
      "needs_background": "light"
     },
     "output_type": "display_data"
    }
   ],
   "source": [
    "plotTrace()"
   ]
  },
  {
   "cell_type": "code",
   "execution_count": 22,
   "metadata": {},
   "outputs": [
    {
     "name": "stdout",
     "output_type": "stream",
     "text": [
      "Trace actual size 1\n"
     ]
    }
   ],
   "source": [
    "count = dev.get_trace_actual_data_points()\n",
    "print(\"Trace actual size\", count)"
   ]
  },
  {
   "cell_type": "code",
   "execution_count": 32,
   "metadata": {},
   "outputs": [
    {
     "data": {
      "text/plain": [
       "'0.00000'"
      ]
     },
     "execution_count": 32,
     "metadata": {},
     "output_type": "execute_result"
    }
   ],
   "source": [
    "dev.WriteCommand(\"SOUR:DCON:DELTa 1e-6\")\n",
    "dev.QueryCommand(\"SOUR:DCON:DELTa?\")"
   ]
  },
  {
   "cell_type": "code",
   "execution_count": 33,
   "metadata": {},
   "outputs": [
    {
     "data": {
      "text/plain": [
       "'1.000000E-04'"
      ]
     },
     "execution_count": 33,
     "metadata": {},
     "output_type": "execute_result"
    }
   ],
   "source": [
    "dev.QueryCommand(f\"SOUR:DCON:STOP?\")\n"
   ]
  },
  {
   "cell_type": "code",
   "execution_count": 41,
   "metadata": {},
   "outputs": [],
   "source": [
    "dev.RunLinSweep(st=10e-6, en=100e-6, step=0.1e-6)"
   ]
  },
  {
   "cell_type": "code",
   "execution_count": 24,
   "metadata": {},
   "outputs": [],
   "source": [
    "a=\"\"\"*RST ‘ Restores 622x defaults.\n",
    "SOUR:DCON:STARt 0 ‘ Sets start value to 0µA.\n",
    "SOUR:DCON:STEP 10e-6 ‘ Sets step size to 10µA.\n",
    "SOUR:DCON:STOP 50e-6 ‘ Sets stop value to 50µA.\n",
    "SOUR:DCON:DELTa 20e-6 ‘ Sets delta value to 20µA.\n",
    "SOUR:DCON:DELay 1e-3 ‘ Sets delay to 1ms.\n",
    "SOUR:DCON:CAB ON ‘ Enables Compliance Abort.\n",
    "TRAC:POIN 6 ‘ Sets buffer size to six points. A\n",
    "SOUR:DCON:ARM ‘ Arms Differential Conductance.\n",
    "INIT:IMM \"\"\""
   ]
  },
  {
   "cell_type": "code",
   "execution_count": 43,
   "metadata": {},
   "outputs": [],
   "source": [
    "dev.WriteCommand(\"*RST\")\n",
    "dev.WriteCommand(\"SOUR:DCON:STARt 0 \")\n",
    "dev.WriteCommand(\"SOUR:DCON:STEP 10e-6\")\n",
    "dev.WriteCommand(\"SOUR:DCON:STOP 50e-6\")\n",
    "dev.WriteCommand(\"SOUR:DCON:DELTa 20e-6 \")\n",
    "dev.WriteCommand(\"SOUR:DCON:DELay 1e-3\")\n",
    "dev.WriteCommand(\"SOUR:DCON:CAB OFF\")\n",
    "dev.WriteCommand(\"TRAC:POIN 6\")\n",
    "dev.WriteCommand(\"SOUR:DCON:ARM\")\n",
    "dev.WriteCommand(\"INIT:IMM\")"
   ]
  },
  {
   "cell_type": "code",
   "execution_count": 22,
   "metadata": {},
   "outputs": [
    {
     "data": {
      "text/plain": [
       "'*RST ‘ Restores 622x defaults.SOUR:DCON:STARt 0 ‘ Sets start value to 0µA.SOUR:DCON:STEP 10e-6 ‘ Sets step size to 10µA.SOUR:DCON:STOP 50e-6 ‘ Sets stop value to 50µA.SOUR:DCON:DELTa 20e-6 ‘ Sets delta value to 20µA.SOUR:DCON:DELay 1e-3 ‘ Sets delay to 1ms.SOUR:DCON:CAB ON ‘ Enables Compliance Abort.TRAC:POIN 6 ‘ Sets buffer size to six points. ASOUR:DCON:ARM ‘ Arms Differential Conductance.INIT:IMM '"
      ]
     },
     "execution_count": 22,
     "metadata": {},
     "output_type": "execute_result"
    }
   ],
   "source": [
    "a"
   ]
  },
  {
   "cell_type": "code",
   "execution_count": null,
   "metadata": {},
   "outputs": [],
   "source": []
  }
 ],
 "metadata": {
  "interpreter": {
   "hash": "d5ace9fa8a4772c7045cb25a70f2b01b809d20a88cc22597a4b389cfa894c1f5"
  },
  "kernelspec": {
   "display_name": "Python 3.7.6 ('ppms')",
   "language": "python",
   "name": "python3"
  },
  "language_info": {
   "codemirror_mode": {
    "name": "ipython",
    "version": 3
   },
   "file_extension": ".py",
   "mimetype": "text/x-python",
   "name": "python",
   "nbconvert_exporter": "python",
   "pygments_lexer": "ipython3",
   "version": "3.7.6"
  },
  "orig_nbformat": 4
 },
 "nbformat": 4,
 "nbformat_minor": 2
}
